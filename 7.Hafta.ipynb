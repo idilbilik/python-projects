{
 "cells": [
  {
   "cell_type": "markdown",
   "metadata": {},
   "source": [
    "**Temel Dosya İşlemleri**\n",
    "\n",
    "* Bir dosyayı açma\n",
    "* O dosyadan veriyi okuma\n",
    "* Dosyanın içine veri yazma\n",
    "* Dosyayı Kapatma"
   ]
  },
  {
   "cell_type": "markdown",
   "metadata": {},
   "source": []
  },
  {
   "cell_type": "code",
   "execution_count": 2,
   "metadata": {},
   "outputs": [],
   "source": [
    "f = open(\"names.txt\", \"w\")\n",
    "f.write(\"Elvan\")\n",
    "f.close()"
   ]
  },
  {
   "cell_type": "code",
   "execution_count": 3,
   "metadata": {},
   "outputs": [],
   "source": [
    "my_list = [\"Ayse\",\"Ceyda\",\"Ceren\"]\n",
    "f = open(\"names.txt\",\"a\")\n",
    "for i in my_list:\n",
    "    f.write(i)\n",
    "f.close()\n"
   ]
  },
  {
   "cell_type": "code",
   "execution_count": 4,
   "metadata": {},
   "outputs": [],
   "source": [
    "my_list = [\"Ayse\",\"Ceyda\",\"Ceren\"]\n",
    "f = open(\"names.txt\",\"w\")\n",
    "for i in my_list:\n",
    "    f.write(i + \"\\n\")\n",
    "f.close()"
   ]
  },
  {
   "cell_type": "code",
   "execution_count": 6,
   "metadata": {},
   "outputs": [
    {
     "name": "stdout",
     "output_type": "stream",
     "text": [
      "['.git', '1.Hafta.ipynb', '3.Hafta.ipynb', '4.Hafta.ipynb', '5.Hafta.ipynb', '6.Hafta.ipynb', 'names.txt', 'README.md']\n",
      "True\n"
     ]
    }
   ],
   "source": [
    "import os\n",
    "\n",
    "print(os.listdir()) #çalışılan dizindeki dosyaları gösterir\n",
    "print(os.path.isfile(\"names.txt\")) #belirtilen dosya var mı sorgusu"
   ]
  },
  {
   "cell_type": "code",
   "execution_count": 7,
   "metadata": {},
   "outputs": [],
   "source": [
    "f = open(r\"C:\\Users\\İdil\\Desktop\\names.txt\",\"w\")\n",
    "for i in range(10):\n",
    "    f.write(\"Python\\n\")\n",
    "f.close()"
   ]
  },
  {
   "cell_type": "markdown",
   "metadata": {},
   "source": [
    "*with open*"
   ]
  },
  {
   "cell_type": "code",
   "execution_count": 15,
   "metadata": {},
   "outputs": [
    {
     "name": "stdout",
     "output_type": "stream",
     "text": [
      "Tarih:  2022-06-22 20:51:09.888527\n",
      "22-06-2022.txt\n",
      "22-06-2022-20-51-09.txt\n"
     ]
    }
   ],
   "source": [
    "from datetime import datetime as dt\n",
    "x = dt.now()\n",
    "print(\"Tarih: \",x)\n",
    "#gün ay yıl\n",
    "\n",
    "file_name = x.strftime(\"%d-%m-%Y.txt\")\n",
    "print(file_name)\n",
    "with open(file_name,\"w\") as f:\n",
    "    f.write(\"gun ay yil seklinde tanimlama yapilmistir.\")\n",
    "\n",
    "#gün ay yıl saat dk sn\n",
    "file_name2 = x.strftime(\"%d-%m-%Y-%H-%M-%S.txt\")\n",
    "print(file_name2)\n",
    "with open(file_name2,\"w\") as f2:\n",
    "    f2.write(\"gun ay yil saat dk sn seklinde tanimlanmistir.\")"
   ]
  },
  {
   "cell_type": "markdown",
   "metadata": {},
   "source": [
    "Dosya Okuma"
   ]
  },
  {
   "cell_type": "code",
   "execution_count": 1,
   "metadata": {},
   "outputs": [
    {
     "name": "stdout",
     "output_type": "stream",
     "text": [
      "Ayse\n",
      "Ceyda\n",
      "Ceren\n",
      "\n"
     ]
    }
   ],
   "source": [
    "f = open(\"names.txt\",\"r\")\n",
    "print(f.read())\n",
    "f.close()"
   ]
  },
  {
   "cell_type": "code",
   "execution_count": 2,
   "metadata": {},
   "outputs": [
    {
     "ename": "FileNotFoundError",
     "evalue": "[Errno 2] No such file or directory: 'name.txt'",
     "output_type": "error",
     "traceback": [
      "\u001b[1;31m---------------------------------------------------------------------------\u001b[0m",
      "\u001b[1;31mFileNotFoundError\u001b[0m                         Traceback (most recent call last)",
      "\u001b[1;32md:\\SistersLab\\python-projects\\7.Hafta.ipynb Cell 3'\u001b[0m in \u001b[0;36m<cell line: 1>\u001b[1;34m()\u001b[0m\n\u001b[1;32m----> <a href='vscode-notebook-cell:/d%3A/SistersLab/python-projects/7.Hafta.ipynb#ch0000002?line=0'>1</a>\u001b[0m f \u001b[39m=\u001b[39m \u001b[39mopen\u001b[39;49m(\u001b[39m\"\u001b[39;49m\u001b[39mname.txt\u001b[39;49m\u001b[39m\"\u001b[39;49m,\u001b[39m\"\u001b[39;49m\u001b[39mr\u001b[39;49m\u001b[39m\"\u001b[39;49m)\n\u001b[0;32m      <a href='vscode-notebook-cell:/d%3A/SistersLab/python-projects/7.Hafta.ipynb#ch0000002?line=1'>2</a>\u001b[0m \u001b[39mprint\u001b[39m(f\u001b[39m.\u001b[39mread())\n\u001b[0;32m      <a href='vscode-notebook-cell:/d%3A/SistersLab/python-projects/7.Hafta.ipynb#ch0000002?line=2'>3</a>\u001b[0m f\u001b[39m.\u001b[39mclose()\n",
      "\u001b[1;31mFileNotFoundError\u001b[0m: [Errno 2] No such file or directory: 'name.txt'"
     ]
    }
   ],
   "source": [
    "f = open(\"name.txt\",\"r\")\n",
    "print(f.read())\n",
    "f.close()"
   ]
  },
  {
   "cell_type": "code",
   "execution_count": 3,
   "metadata": {},
   "outputs": [
    {
     "name": "stdout",
     "output_type": "stream",
     "text": [
      "Dosya aranan dizinde bulunamadı.\n"
     ]
    }
   ],
   "source": [
    "import os \n",
    "\n",
    "if os.path.exists(\"name.txt\"):\n",
    "    f = open(\"name.txt\",\"r\")\n",
    "    print(f.read())\n",
    "    f.close()\n",
    "else:\n",
    "     print(\"Dosya aranan dizinde bulunamadı.\")"
   ]
  },
  {
   "cell_type": "code",
   "execution_count": 4,
   "metadata": {},
   "outputs": [
    {
     "name": "stdout",
     "output_type": "stream",
     "text": [
      "Ayse\n",
      "Ceyda\n",
      "Ceren\n",
      "\n"
     ]
    }
   ],
   "source": [
    "with open(\"names.txt\",\"r\") as f:\n",
    "    print(f.read())"
   ]
  },
  {
   "cell_type": "markdown",
   "metadata": {},
   "source": [
    "*Dosya Okuma Yöntemleri*\n",
    "\n",
    "readline() --> satır satır okuma işlemi için kulllanılır"
   ]
  },
  {
   "cell_type": "code",
   "execution_count": 10,
   "metadata": {},
   "outputs": [
    {
     "name": "stdout",
     "output_type": "stream",
     "text": [
      "Ayse\n",
      "\n"
     ]
    }
   ],
   "source": [
    "with open(\"names.txt\",\"r\") as f:\n",
    "    lines = f.readline() #dosyanın ilk satırını ekrana basar\n",
    "    print(lines)"
   ]
  },
  {
   "cell_type": "code",
   "execution_count": 9,
   "metadata": {},
   "outputs": [
    {
     "name": "stdout",
     "output_type": "stream",
     "text": [
      "['Ayse\\n', 'Ceyda\\n', 'Ceren\\n']\n"
     ]
    }
   ],
   "source": [
    "with open(\"names.txt\",\"r\") as f:\n",
    "    lines = f.readlines() #tüm dosyayı okur ve liste formatınde döner.\n",
    "    print(lines)"
   ]
  },
  {
   "cell_type": "code",
   "execution_count": 11,
   "metadata": {},
   "outputs": [
    {
     "name": "stdout",
     "output_type": "stream",
     "text": [
      "Ayse\n",
      "Ceyda\n",
      "Ceren\n",
      "\n"
     ]
    },
    {
     "ename": "UnsupportedOperation",
     "evalue": "not writable",
     "output_type": "error",
     "traceback": [
      "\u001b[1;31m---------------------------------------------------------------------------\u001b[0m",
      "\u001b[1;31mUnsupportedOperation\u001b[0m                      Traceback (most recent call last)",
      "\u001b[1;32md:\\SistersLab\\python-projects\\7.Hafta.ipynb Cell 18'\u001b[0m in \u001b[0;36m<cell line: 1>\u001b[1;34m()\u001b[0m\n\u001b[0;32m      <a href='vscode-notebook-cell:/d%3A/SistersLab/python-projects/7.Hafta.ipynb#ch0000017?line=0'>1</a>\u001b[0m \u001b[39mwith\u001b[39;00m \u001b[39mopen\u001b[39m(\u001b[39m\"\u001b[39m\u001b[39mnames.txt\u001b[39m\u001b[39m\"\u001b[39m,\u001b[39m\"\u001b[39m\u001b[39mr\u001b[39m\u001b[39m\"\u001b[39m) \u001b[39mas\u001b[39;00m f:\n\u001b[0;32m      <a href='vscode-notebook-cell:/d%3A/SistersLab/python-projects/7.Hafta.ipynb#ch0000017?line=1'>2</a>\u001b[0m     \u001b[39mprint\u001b[39m(f\u001b[39m.\u001b[39mread())\n\u001b[1;32m----> <a href='vscode-notebook-cell:/d%3A/SistersLab/python-projects/7.Hafta.ipynb#ch0000017?line=2'>3</a>\u001b[0m     f\u001b[39m.\u001b[39;49mwrite(\u001b[39m\"\u001b[39;49m\u001b[39mNurcan\u001b[39;49m\u001b[39m\\n\u001b[39;49;00m\u001b[39m\"\u001b[39;49m)\n",
      "\u001b[1;31mUnsupportedOperation\u001b[0m: not writable"
     ]
    }
   ],
   "source": [
    "with open(\"names.txt\",\"r\") as f:\n",
    "    print(f.read())\n",
    "    f.write(\"Nurcan\\n\")\n",
    "\n",
    "#Bir dosyayı ne amaçla kullanacaksak o erişim modunda açmamız gerekir."
   ]
  },
  {
   "cell_type": "code",
   "execution_count": 14,
   "metadata": {},
   "outputs": [
    {
     "name": "stdout",
     "output_type": "stream",
     "text": [
      "Ayse\n",
      "Ceyda\n",
      "Ceren\n",
      "İdil\n",
      "idil\n",
      "\n"
     ]
    }
   ],
   "source": [
    "with open(\"names.txt\",\"r+\") as f:\n",
    "    print(f.read())\n",
    "    f.write(\"idil\\n\")"
   ]
  },
  {
   "cell_type": "code",
   "execution_count": 15,
   "metadata": {},
   "outputs": [
    {
     "name": "stdout",
     "output_type": "stream",
     "text": [
      "idil\n",
      "\n",
      "idil\n",
      "\n",
      "İdil\n",
      "\n",
      "Ceren\n",
      "\n",
      "Ceyda\n",
      "\n",
      "Ayse\n",
      "\n"
     ]
    }
   ],
   "source": [
    "with open(\"names.txt\",\"r\") as f:\n",
    "    lines = f.readlines()\n",
    "    for line in reversed(lines):\n",
    "        print(line)"
   ]
  },
  {
   "cell_type": "markdown",
   "metadata": {},
   "source": [
    "**Dosya Yazma**\n",
    "\n",
    "* **w** -> *Yazmak için bir dosya açar. Mevcur bir dosya varsa onu açar ve üzerine yazarak devam eder. Dosya yoksa da ilgili dizinde önce dosyayı oluşturur sonra yazmaya başlar.*\n",
    "\n",
    "* **w+** -> *okuma ve yazma amacıyla dosya oluşturur. r+ farkı ilgili dosyanın içeriğini silip yazar.*\n",
    "\n",
    "* **a** -> *w ile aynı mantıkta sadece ilgili içeriği silmez dosyanın sonuna ekleme yaparak yeni satır ekler.*\n",
    "\n",
    "* **a+** -> *w+ gibi okuma yazma amacıyla kullanılır. w+ farkı dosya mevcutsa içeriğin üzerine yazmaz. yeni eklenecek veriyi dosyanın sonuna ekleyecek şekilde işlem yapar.*\n",
    "\n",
    "* **r** -> *Okuma amaçlı kullanılır.*\n",
    "\n",
    "* **r+** -> *Okuma ve yazma amaçlı. Dosya ilgili dizinde yoksa hata verir. Yeni eklenecek veri dosyanın sonuna eklenir.*"
   ]
  },
  {
   "cell_type": "code",
   "execution_count": 18,
   "metadata": {},
   "outputs": [],
   "source": [
    "names = [\"ALi\", \"\\nVeli\", \"\\nBuket\"]\n",
    "\n",
    "with open(\"names.txt\",\"w\") as f:\n",
    "    f.writelines(names)"
   ]
  },
  {
   "cell_type": "code",
   "execution_count": 19,
   "metadata": {},
   "outputs": [],
   "source": [
    "names = [\"\\nidil\",\"\\nAli\", \"\\nVeli\", \"\\nBuket\"]\n",
    "\n",
    "with open(\"names.txt\",\"a\") as f:\n",
    "    f.writelines(names)"
   ]
  },
  {
   "cell_type": "markdown",
   "metadata": {},
   "source": [
    "**Dosyada Arama**\n",
    "\n",
    "file.seek(imlec_konumu)\n",
    "\n",
    "* f.seek(8) -> *imleci 8 karakter ilerletmiş oluruz.*\n",
    "* f.seek(0,2) -> *imleci dosyanın sonuna götürmek için kullanırız.*\n",
    "* f.seek(4,1) -> *Burada 1 ise dosya işaretçisinin geçerli konumunu koruyarak 4 karakter ilerler*"
   ]
  },
  {
   "cell_type": "code",
   "execution_count": 20,
   "metadata": {},
   "outputs": [
    {
     "name": "stdout",
     "output_type": "stream",
     "text": [
      "i\n",
      "Veli\n",
      "Buket\n",
      "idil\n",
      "Ali\n",
      "Veli\n",
      "Buket\n"
     ]
    }
   ],
   "source": [
    "with open(\"names.txt\",\"r\") as f:\n",
    "    f.seek(2)\n",
    "    print(f.read())"
   ]
  },
  {
   "cell_type": "code",
   "execution_count": 21,
   "metadata": {},
   "outputs": [
    {
     "name": "stdout",
     "output_type": "stream",
     "text": [
      "\n"
     ]
    }
   ],
   "source": [
    "with open(\"names.txt\",\"r\") as f:\n",
    "    f.seek(0,2)\n",
    "    print(f.read())"
   ]
  },
  {
   "cell_type": "code",
   "execution_count": 23,
   "metadata": {},
   "outputs": [
    {
     "name": "stdout",
     "output_type": "stream",
     "text": [
      "ALi\n",
      "Veli\n",
      "Buket\n",
      "idil\n",
      "Ali\n",
      "Veli\n",
      "Buket\n"
     ]
    }
   ],
   "source": [
    "with open(\"names.txt\",\"r\") as f:\n",
    "    f.seek(0,1)\n",
    "    print(f.read())"
   ]
  },
  {
   "cell_type": "markdown",
   "metadata": {},
   "source": [
    "**Dosyayı yeniden adlandırma**"
   ]
  },
  {
   "cell_type": "code",
   "execution_count": 24,
   "metadata": {},
   "outputs": [],
   "source": [
    "with open(\"namees.txt\",\"w\") as f:\n",
    "    f.write(\"Python\")"
   ]
  },
  {
   "cell_type": "code",
   "execution_count": 25,
   "metadata": {},
   "outputs": [],
   "source": [
    "import os \n",
    "\n",
    "os.rename(\"namees.txt\",\"name_list.txt\")"
   ]
  },
  {
   "cell_type": "code",
   "execution_count": 26,
   "metadata": {},
   "outputs": [],
   "source": [
    "import os\n",
    "if os.path.exists(\"name_list.txt\"):\n",
    "    os.rename(\"name_list.txt\", \"names_list.txt\")\n",
    "else:\n",
    "    print(\"Dosya Bulunamadı\")"
   ]
  },
  {
   "cell_type": "markdown",
   "metadata": {},
   "source": [
    "**Dosya Silme**\n"
   ]
  },
  {
   "cell_type": "code",
   "execution_count": 27,
   "metadata": {},
   "outputs": [],
   "source": [
    "import os\n",
    "\n",
    "os.remove(\"names_list.txt\")"
   ]
  },
  {
   "cell_type": "markdown",
   "metadata": {},
   "source": [
    "**Medium Yazısı Tamamlanacaklar**\n",
    "\n",
    "* list tuple\n",
    "\n",
    "* set dictionary\n",
    "\n",
    "* temel dosya işlemleri"
   ]
  }
 ],
 "metadata": {
  "kernelspec": {
   "display_name": "Python 3.9.12 ('base')",
   "language": "python",
   "name": "python3"
  },
  "language_info": {
   "codemirror_mode": {
    "name": "ipython",
    "version": 3
   },
   "file_extension": ".py",
   "mimetype": "text/x-python",
   "name": "python",
   "nbconvert_exporter": "python",
   "pygments_lexer": "ipython3",
   "version": "3.9.12"
  },
  "orig_nbformat": 4,
  "vscode": {
   "interpreter": {
    "hash": "ad2bdc8ecc057115af97d19610ffacc2b4e99fae6737bb82f5d7fb13d2f2c186"
   }
  }
 },
 "nbformat": 4,
 "nbformat_minor": 2
}
