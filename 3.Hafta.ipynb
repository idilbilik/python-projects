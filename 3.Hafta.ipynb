{
 "cells": [
  {
   "cell_type": "code",
   "execution_count": 1,
   "metadata": {},
   "outputs": [
    {
     "name": "stdout",
     "output_type": "stream",
     "text": [
      "hello dünyalılar!\n"
     ]
    }
   ],
   "source": [
    "'''\n",
    "Fonksiyonlar\n",
    "return()\n",
    "'''\n",
    "#Parametresiz Fonksiyonlar\n",
    "def sayHello():\n",
    "    print(\"hello dünyalılar!\")\n",
    "sayHello()\n"
   ]
  },
  {
   "cell_type": "code",
   "execution_count": 2,
   "metadata": {},
   "outputs": [
    {
     "name": "stdout",
     "output_type": "stream",
     "text": [
      "Merhaba Nurcan aramıza hoş geldin!\n"
     ]
    }
   ],
   "source": [
    "#Parametre alan fonksiyonlar\n",
    "\n",
    "def sayHello(name):\n",
    "    print(\"Merhaba {} aramıza hoş geldin!\".format(name))\n",
    "\n",
    "sayHello(\"Nurcan\")"
   ]
  },
  {
   "cell_type": "code",
   "execution_count": 3,
   "metadata": {},
   "outputs": [
    {
     "name": "stdout",
     "output_type": "stream",
     "text": [
      "12\n"
     ]
    }
   ],
   "source": [
    "#iki sayının toplamını geri döndüren fonksiyonu yazalım\n",
    "\n",
    "def add(num1,num2):\n",
    "    result = num1 + num2\n",
    "    return result\n",
    "\n",
    "result = add(3, 9)\n",
    "print(result)"
   ]
  },
  {
   "cell_type": "code",
   "execution_count": 4,
   "metadata": {},
   "outputs": [
    {
     "name": "stdout",
     "output_type": "stream",
     "text": [
      "12\n"
     ]
    }
   ],
   "source": [
    "def add(num1, num2):\n",
    "    return num1 + num2\n",
    "print(add(3,9))"
   ]
  },
  {
   "cell_type": "code",
   "execution_count": 5,
   "metadata": {},
   "outputs": [
    {
     "name": "stdout",
     "output_type": "stream",
     "text": [
      "16\n"
     ]
    }
   ],
   "source": [
    "from random import randint\n",
    "\n",
    "print(randint(10, 20))"
   ]
  },
  {
   "cell_type": "code",
   "execution_count": null,
   "metadata": {},
   "outputs": [],
   "source": [
    "num1 = 4\n",
    "num2 = 6\n",
    "\n",
    "num1, num2 = 4, 6"
   ]
  },
  {
   "cell_type": "code",
   "execution_count": 6,
   "metadata": {},
   "outputs": [
    {
     "name": "stdout",
     "output_type": "stream",
     "text": [
      "Toplama:  12\n",
      "Çıkarma:  8\n",
      "Çarpma:  20\n",
      "Float Bölme:  5.0\n",
      "Int bölme:  5\n"
     ]
    }
   ],
   "source": [
    "#4 işlemi yapan bir hesap makinesi\n",
    "def calculate(num1, num2):\n",
    "    add = num1 + num2\n",
    "    sub = num1 - num2\n",
    "    multiply = num1 * num2\n",
    "    division = num1 / num2 #float olarak bölme\n",
    "    intDivision =num1 // num2 #int olarak bölme\n",
    "\n",
    "    return add ,sub ,multiply ,division ,intDivision\n",
    "\n",
    "a, b, c, d, e = calculate(10, 2) #Çoklu atama\n",
    "\n",
    "print(\"Toplama: \",a)\n",
    "print(\"Çıkarma: \", b)\n",
    "print(\"Çarpma: \", c)\n",
    "print(\"Float Bölme: \", d)\n",
    "print(\"Int bölme: \", e)"
   ]
  },
  {
   "cell_type": "markdown",
   "metadata": {},
   "source": [
    "Fonksiyonlar içerisinde değişkenlerin kapsamı"
   ]
  },
  {
   "cell_type": "code",
   "execution_count": 8,
   "metadata": {},
   "outputs": [
    {
     "name": "stdout",
     "output_type": "stream",
     "text": [
      "Fonksiyon içerisinde global değişken GLOBAL, yerel değişken YEREL \n"
     ]
    },
    {
     "ename": "NameError",
     "evalue": "name 'local_variable' is not defined",
     "output_type": "error",
     "traceback": [
      "\u001b[1;31m---------------------------------------------------------------------------\u001b[0m",
      "\u001b[1;31mNameError\u001b[0m                                 Traceback (most recent call last)",
      "\u001b[1;32md:\\SistersLab\\python-projects\\3.Hafta.ipynb Cell 9'\u001b[0m in \u001b[0;36m<cell line: 8>\u001b[1;34m()\u001b[0m\n\u001b[0;32m      <a href='vscode-notebook-cell:/d%3A/SistersLab/python-projects/3.Hafta.ipynb#ch0000007?line=4'>5</a>\u001b[0m     \u001b[39mprint\u001b[39m(\u001b[39m\"\u001b[39m\u001b[39mFonksiyon içerisinde global değişken \u001b[39m\u001b[39m{}\u001b[39;00m\u001b[39m, yerel değişken \u001b[39m\u001b[39m{}\u001b[39;00m\u001b[39m \u001b[39m\u001b[39m\"\u001b[39m\u001b[39m.\u001b[39mformat(global_variable,local_variable))\n\u001b[0;32m      <a href='vscode-notebook-cell:/d%3A/SistersLab/python-projects/3.Hafta.ipynb#ch0000007?line=6'>7</a>\u001b[0m func()\n\u001b[1;32m----> <a href='vscode-notebook-cell:/d%3A/SistersLab/python-projects/3.Hafta.ipynb#ch0000007?line=7'>8</a>\u001b[0m \u001b[39mprint\u001b[39m(\u001b[39m\"\u001b[39m\u001b[39mFonksiyon içerisinde global değişken \u001b[39m\u001b[39m{}\u001b[39;00m\u001b[39m, yerel değişken \u001b[39m\u001b[39m{}\u001b[39;00m\u001b[39m \u001b[39m\u001b[39m\"\u001b[39m\u001b[39m.\u001b[39mformat(global_variable,local_variable))\n",
      "\u001b[1;31mNameError\u001b[0m: name 'local_variable' is not defined"
     ]
    }
   ],
   "source": [
    "global_variable = \"GLOBAL\"\n",
    "\n",
    "def func():\n",
    "    local_variable = \"YEREL\"\n",
    "    print(\"Fonksiyon içerisinde global değişken {}, yerel değişken {} \".format(global_variable,local_variable))\n",
    "\n",
    "func()\n",
    "print(\"Fonksiyon içerisinde global değişken {}, yerel değişken {} \".format(global_variable,local_variable)) \n",
    "#fonksiyon içerisinde tanımlanan bir değişkene fonksiyon dışında erişemeyiz"
   ]
  },
  {
   "cell_type": "code",
   "execution_count": 17,
   "metadata": {},
   "outputs": [
    {
     "name": "stdout",
     "output_type": "stream",
     "text": [
      "4\n",
      "8\n",
      "4\n"
     ]
    }
   ],
   "source": [
    "a = 4\n",
    "\n",
    "def print_a():\n",
    "    print(a)\n",
    "def print_a2():\n",
    "    a = 8\n",
    "    print(a)\n",
    "def print_a3():\n",
    "    print(a)\n",
    "\n",
    "\n",
    "print_a()  \n",
    "print_a2() \n",
    "print_a3()"
   ]
  },
  {
   "cell_type": "code",
   "execution_count": 18,
   "metadata": {},
   "outputs": [
    {
     "name": "stdout",
     "output_type": "stream",
     "text": [
      "4\n",
      "8\n",
      "8\n"
     ]
    }
   ],
   "source": [
    "a = 4\n",
    "\n",
    "def print_a():\n",
    "    print(a)\n",
    "def print_a2():\n",
    "    global a #globaldeki a değerini etkiler\n",
    "    a = 8\n",
    "    print(a)\n",
    "def print_a3():\n",
    "    print(a)\n",
    "\n",
    "\n",
    "print_a()  \n",
    "print_a2() \n",
    "print_a3()"
   ]
  },
  {
   "cell_type": "code",
   "execution_count": 21,
   "metadata": {},
   "outputs": [
    {
     "name": "stdout",
     "output_type": "stream",
     "text": [
      "Hello  Katılımcılar\n",
      "Hello  İdil\n"
     ]
    }
   ],
   "source": [
    "def sayHello(name = \"Katılımcılar\"):\n",
    "    print(\"Hello \", name)\n",
    "\n",
    "sayHello() #default parametreyi alıp kullanır (katılımcılar)\n",
    "sayHello(\"İdil\") #gönderilen parametreyi kullanır"
   ]
  },
  {
   "cell_type": "code",
   "execution_count": 22,
   "metadata": {},
   "outputs": [
    {
     "name": "stdout",
     "output_type": "stream",
     "text": [
      "Toplam:  0\n",
      "Toplam:  14\n",
      "Toplam:  51.4\n"
     ]
    }
   ],
   "source": [
    "#parametre olarak gelen değerlerin toplamını ekrana yazalım\n",
    "def add(*numbers):\n",
    "    total = 0\n",
    "    for i in numbers:\n",
    "        total = total + i # total += i\n",
    "    print(\"Toplam: \",total)\n",
    "\n",
    "# 0 parametre \n",
    "add()\n",
    "\n",
    "#4 parametreli\n",
    "add(1, 4, 6, 3)\n",
    "\n",
    "#2 parametreli\n",
    "add(49, 2.4)"
   ]
  },
  {
   "cell_type": "code",
   "execution_count": 24,
   "metadata": {},
   "outputs": [
    {
     "name": "stdout",
     "output_type": "stream",
     "text": [
      "1 ile 9 arasındaki çift sayılar: \n",
      "2\n",
      "4\n",
      "6\n",
      "8\n",
      "Ortalama  5.0\n"
     ]
    }
   ],
   "source": [
    "#Kullanıcının girdiği 2 sayı arasındaki çift sayıları ekrana yazdıralım.\n",
    "#Ardından sayıların ortalamasını hesaplayalım.\n",
    "def is_even(num):\n",
    "    if num % 2 == 0:\n",
    "        return True\n",
    "    else:\n",
    "        return False\n",
    "\n",
    "#def is_even(num):  \n",
    "#        return num % 2 != 0\n",
    "    \n",
    "total = 0\n",
    "count = 0\n",
    "num1 = int(input(\"Aralık için başlangıç pozitif tam sayısını giriniz\"))\n",
    "num2 = int(input(\"Aralığın bitiş değeri için pozitif tam sayısını giriniz\"))\n",
    "print(\"{} ile {} arasındaki çift sayılar: \" .format(num1,num2))\n",
    "for i in range(num1, num2 + 1):\n",
    "    if is_even(i):\n",
    "        print(i)\n",
    "        total += i\n",
    "        count += 1\n",
    "print(\"Ortalama \", total / count)    \n",
    "\n"
   ]
  },
  {
   "cell_type": "code",
   "execution_count": 30,
   "metadata": {},
   "outputs": [
    {
     "name": "stdout",
     "output_type": "stream",
     "text": [
      "13 Asal sayıdır.\n"
     ]
    }
   ],
   "source": [
    "#Bir sayının asal olup olmadığını bir fonksiyon ile bulup ekrana basalım\n",
    "def primenumber():\n",
    "    number = int(input(\"Sayı girin: \"))\n",
    "    if number > 1:\n",
    "        for i in range(2,number):\n",
    "            if number % i == 0:\n",
    "                print(number, \"Asal sayı değildir.\")\n",
    "                break\n",
    "        else:\n",
    "            print(number, \"Asal sayıdır.\")    \n",
    "    else:\n",
    "        print(number, \"Asal sayı değildir.\")\n",
    "primenumber()"
   ]
  },
  {
   "cell_type": "code",
   "execution_count": 33,
   "metadata": {},
   "outputs": [
    {
     "name": "stdout",
     "output_type": "stream",
     "text": [
      "Sayı asaldır.\n",
      "Asal değildir.\n"
     ]
    }
   ],
   "source": [
    "def asal(num):\n",
    "    i = 2\n",
    "    while i < num:\n",
    "        if num % i == 0:\n",
    "            return \"Asal değildir.\"\n",
    "        i += 1\n",
    "    else: \n",
    "        return \"Sayı asaldır.\"\n",
    "print(asal(17))\n",
    "print(asal(18))"
   ]
  },
  {
   "cell_type": "code",
   "execution_count": 35,
   "metadata": {},
   "outputs": [
    {
     "name": "stdout",
     "output_type": "stream",
     "text": [
      "[3, 17]\n"
     ]
    }
   ],
   "source": [
    "#girilen değerin asal çarpanlarını bulan fonksiyonu yazalım\n",
    "def asal(num):\n",
    "    i = 2\n",
    "    while i < num:\n",
    "        if num % i == 0:\n",
    "            return False\n",
    "        i += 1\n",
    "    else: \n",
    "        return True\n",
    "\n",
    "def asalCarpan(n):\n",
    "    carpanlar = [] #bos liste\n",
    "    j = 2\n",
    "    while n > 1:\n",
    "        if n % j == 0 and asal(j):\n",
    "            carpanlar.append(j)\n",
    "            n /= j\n",
    "        j += 1\n",
    "    return carpanlar\n",
    "    \n",
    "print(asalCarpan(51))\n",
    "\n"
   ]
  }
 ],
 "metadata": {
  "interpreter": {
   "hash": "ad2bdc8ecc057115af97d19610ffacc2b4e99fae6737bb82f5d7fb13d2f2c186"
  },
  "kernelspec": {
   "display_name": "Python 3.9.12 ('base')",
   "language": "python",
   "name": "python3"
  },
  "language_info": {
   "codemirror_mode": {
    "name": "ipython",
    "version": 3
   },
   "file_extension": ".py",
   "mimetype": "text/x-python",
   "name": "python",
   "nbconvert_exporter": "python",
   "pygments_lexer": "ipython3",
   "version": "3.9.12"
  },
  "orig_nbformat": 4
 },
 "nbformat": 4,
 "nbformat_minor": 2
}
