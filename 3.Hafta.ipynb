{
 "cells": [
  {
   "cell_type": "code",
   "execution_count": 1,
   "metadata": {},
   "outputs": [
    {
     "name": "stdout",
     "output_type": "stream",
     "text": [
      "hello dünyalılar!\n"
     ]
    }
   ],
   "source": [
    "'''\n",
    "Fonksiyonlar\n",
    "return()\n",
    "'''\n",
    "#Parametresiz Fonksiyonlar\n",
    "def sayHello():\n",
    "    print(\"hello dünyalılar!\")\n",
    "sayHello()\n"
   ]
  },
  {
   "cell_type": "code",
   "execution_count": 2,
   "metadata": {},
   "outputs": [
    {
     "name": "stdout",
     "output_type": "stream",
     "text": [
      "Merhaba Nurcan aramıza hoş geldin!\n"
     ]
    }
   ],
   "source": [
    "#Parametre alan fonksiyonlar\n",
    "\n",
    "def sayHello(name):\n",
    "    print(\"Merhaba {} aramıza hoş geldin!\".format(name))\n",
    "\n",
    "sayHello(\"Nurcan\")"
   ]
  },
  {
   "cell_type": "code",
   "execution_count": 3,
   "metadata": {},
   "outputs": [
    {
     "name": "stdout",
     "output_type": "stream",
     "text": [
      "12\n"
     ]
    }
   ],
   "source": [
    "#iki sayının toplamını geri döndüren fonksiyonu yazalım\n",
    "\n",
    "def add(num1,num2):\n",
    "    result = num1 + num2\n",
    "    return result\n",
    "\n",
    "result = add(3, 9)\n",
    "print(result)"
   ]
  },
  {
   "cell_type": "code",
   "execution_count": 4,
   "metadata": {},
   "outputs": [
    {
     "name": "stdout",
     "output_type": "stream",
     "text": [
      "12\n"
     ]
    }
   ],
   "source": [
    "def add(num1, num2):\n",
    "    return num1 + num2\n",
    "print(add(3,9))"
   ]
  },
  {
   "cell_type": "code",
   "execution_count": 5,
   "metadata": {},
   "outputs": [
    {
     "name": "stdout",
     "output_type": "stream",
     "text": [
      "16\n"
     ]
    }
   ],
   "source": [
    "from random import randint\n",
    "\n",
    "print(randint(10, 20))"
   ]
  },
  {
   "cell_type": "code",
   "execution_count": null,
   "metadata": {},
   "outputs": [],
   "source": [
    "num1 = 4\n",
    "num2 = 6\n",
    "\n",
    "num1, num2 = 4, 6"
   ]
  },
  {
   "cell_type": "code",
   "execution_count": 6,
   "metadata": {},
   "outputs": [
    {
     "name": "stdout",
     "output_type": "stream",
     "text": [
      "Toplama:  12\n",
      "Çıkarma:  8\n",
      "Çarpma:  20\n",
      "Float Bölme:  5.0\n",
      "Int bölme:  5\n"
     ]
    }
   ],
   "source": [
    "#4 işlemi yapan bir hesap makinesi\n",
    "def calculate(num1, num2):\n",
    "    add = num1 + num2\n",
    "    sub = num1 - num2\n",
    "    multiply = num1 * num2\n",
    "    division = num1 / num2 #float olarak bölme\n",
    "    intDivision =num1 // num2 #int olarak bölme\n",
    "\n",
    "    return add ,sub ,multiply ,division ,intDivision\n",
    "\n",
    "a, b, c, d, e = calculate(10, 2) #Çoklu atama\n",
    "\n",
    "print(\"Toplama: \",a)\n",
    "print(\"Çıkarma: \", b)\n",
    "print(\"Çarpma: \", c)\n",
    "print(\"Float Bölme: \", d)\n",
    "print(\"Int bölme: \", e)"
   ]
  },
  {
   "cell_type": "markdown",
   "metadata": {},
   "source": [
    "Fonksiyonlar içerisinde değişkenlerin kapsamı"
   ]
  },
  {
   "cell_type": "code",
   "execution_count": 12,
   "metadata": {},
   "outputs": [
    {
     "name": "stdout",
     "output_type": "stream",
     "text": [
      "Fonksiyon içerisinde global değişken GLOBAL, yerel değişken YEREL \n"
     ]
    },
    {
     "ename": "NameError",
     "evalue": "name 'local_variable' is not defined",
     "output_type": "error",
     "traceback": [
      "\u001b[1;31m---------------------------------------------------------------------------\u001b[0m",
      "\u001b[1;31mNameError\u001b[0m                                 Traceback (most recent call last)",
      "\u001b[1;32md:\\SistersLab\\python-projects\\3.Hafta.ipynb Cell 9'\u001b[0m in \u001b[0;36m<cell line: 8>\u001b[1;34m()\u001b[0m\n\u001b[0;32m      <a href='vscode-notebook-cell:/d%3A/SistersLab/python-projects/3.Hafta.ipynb#ch0000008?line=4'>5</a>\u001b[0m     \u001b[39mprint\u001b[39m(\u001b[39m\"\u001b[39m\u001b[39mFonksiyon içerisinde global değişken \u001b[39m\u001b[39m{}\u001b[39;00m\u001b[39m, yerel değişken \u001b[39m\u001b[39m{}\u001b[39;00m\u001b[39m \u001b[39m\u001b[39m\"\u001b[39m\u001b[39m.\u001b[39mformat(global_variable,local_variable))\n\u001b[0;32m      <a href='vscode-notebook-cell:/d%3A/SistersLab/python-projects/3.Hafta.ipynb#ch0000008?line=6'>7</a>\u001b[0m func()\n\u001b[1;32m----> <a href='vscode-notebook-cell:/d%3A/SistersLab/python-projects/3.Hafta.ipynb#ch0000008?line=7'>8</a>\u001b[0m \u001b[39mprint\u001b[39m(\u001b[39m\"\u001b[39m\u001b[39mFonksiyon içerisinde global değişken \u001b[39m\u001b[39m{}\u001b[39;00m\u001b[39m, yerel değişken \u001b[39m\u001b[39m{}\u001b[39;00m\u001b[39m \u001b[39m\u001b[39m\"\u001b[39m\u001b[39m.\u001b[39mformat(global_variable,local_variable))\n",
      "\u001b[1;31mNameError\u001b[0m: name 'local_variable' is not defined"
     ]
    }
   ],
   "source": [
    "global_variable = \"GLOBAL\"\n",
    "\n",
    "def func():\n",
    "    local_variable = \"YEREL\"\n",
    "    print(\"Fonksiyon içerisinde global değişken {}, yerel değişken {} \".format(global_variable,local_variable))\n",
    "\n",
    "func()\n",
    "print(\"Fonksiyon içerisinde global değişken {}, yerel değişken {} \".format(global_variable,local_variable)) \n",
    "#fonksiyon içerisinde tanımlanan bir değişkene fonksiyon dışında erişemeyiz"
   ]
  },
  {
   "cell_type": "code",
   "execution_count": 17,
   "metadata": {},
   "outputs": [
    {
     "name": "stdout",
     "output_type": "stream",
     "text": [
      "4\n",
      "8\n",
      "4\n"
     ]
    }
   ],
   "source": [
    "a = 4\n",
    "\n",
    "def print_a():\n",
    "    print(a)\n",
    "def print_a2():\n",
    "    a = 8\n",
    "    print(a)\n",
    "def print_a3():\n",
    "    print(a)\n",
    "\n",
    "\n",
    "print_a()  \n",
    "print_a2() \n",
    "print_a3()"
   ]
  },
  {
   "cell_type": "code",
   "execution_count": 18,
   "metadata": {},
   "outputs": [
    {
     "name": "stdout",
     "output_type": "stream",
     "text": [
      "4\n",
      "8\n",
      "8\n"
     ]
    }
   ],
   "source": [
    "a = 4\n",
    "\n",
    "def print_a():\n",
    "    print(a)\n",
    "def print_a2():\n",
    "    global a #globaldeki a değerini etkiler\n",
    "    a = 8\n",
    "    print(a)\n",
    "def print_a3():\n",
    "    print(a)\n",
    "\n",
    "\n",
    "print_a()  \n",
    "print_a2() \n",
    "print_a3()"
   ]
  },
  {
   "cell_type": "code",
   "execution_count": 24,
   "metadata": {},
   "outputs": [
    {
     "name": "stdout",
     "output_type": "stream",
     "text": [
      "Ayşe: Mezun yılınız geçeli 3 yıl olmuş.\n",
      "Mehtap: Mezun olma yılınızdasınız.\n",
      "İdil: 3. dönemdesiniz. Mezun yılınıza 1 yıl var.\n"
     ]
    }
   ],
   "source": [
    "def mezunyili(girisyili,isim):\n",
    "    date = 2022\n",
    "    dönem = date - girisyili\n",
    "    mezuniyet = dönem - 4\n",
    "\n",
    "    if dönem < 4:\n",
    "        print(f\"{isim}: {dönem}. dönemdesiniz. Mezun yılınıza {abs(mezuniyet)} yıl var.\")\n",
    "    elif dönem == 4:\n",
    "        print(f\"{isim}: Mezun olma yılınızdasınız.\")\n",
    "    else:\n",
    "        print(f\"{isim}: Mezun yılınız geçeli {mezuniyet} yıl olmuş.\")\n",
    "mezunyili(2015,\"Ayşe\")\n",
    "mezunyili(2018,\"Mehtap\")\n",
    "mezunyili(2019,\"İdil\")\n",
    "    "
   ]
  },
  {
   "cell_type": "code",
   "execution_count": 21,
   "metadata": {},
   "outputs": [
    {
     "name": "stdout",
     "output_type": "stream",
     "text": [
      "Hello  Katılımcılar\n",
      "Hello  İdil\n"
     ]
    }
   ],
   "source": [
    "def sayHello(name = \"Katılımcılar\"):\n",
    "    print(\"Hello \", name)\n",
    "\n",
    "sayHello() #default parametreyi alıp kullanır (katılımcılar)\n",
    "sayHello(\"İdil\") #gönderilen parametreyi kullanır"
   ]
  },
  {
   "cell_type": "code",
   "execution_count": 22,
   "metadata": {},
   "outputs": [
    {
     "name": "stdout",
     "output_type": "stream",
     "text": [
      "Toplam:  0\n",
      "Toplam:  14\n",
      "Toplam:  51.4\n"
     ]
    }
   ],
   "source": [
    "#parametre olarak gelen değerlerin toplamını ekrana yazalım\n",
    "def add(*numbers):\n",
    "    total = 0\n",
    "    for i in numbers:\n",
    "        total = total + i # total += i\n",
    "    print(\"Toplam: \",total)\n",
    "\n",
    "# 0 parametre \n",
    "add()\n",
    "\n",
    "#4 parametreli\n",
    "add(1, 4, 6, 3)\n",
    "\n",
    "#2 parametreli\n",
    "add(49, 2.4)"
   ]
  },
  {
   "cell_type": "code",
   "execution_count": 24,
   "metadata": {},
   "outputs": [
    {
     "name": "stdout",
     "output_type": "stream",
     "text": [
      "1 ile 9 arasındaki çift sayılar: \n",
      "2\n",
      "4\n",
      "6\n",
      "8\n",
      "Ortalama  5.0\n"
     ]
    }
   ],
   "source": [
    "#Kullanıcının girdiği 2 sayı arasındaki çift sayıları ekrana yazdıralım.\n",
    "#Ardından sayıların ortalamasını hesaplayalım.\n",
    "def is_even(num):\n",
    "    if num % 2 == 0:\n",
    "        return True\n",
    "    else:\n",
    "        return False\n",
    "\n",
    "#def is_even(num):  \n",
    "#        return num % 2 != 0\n",
    "    \n",
    "total = 0\n",
    "count = 0\n",
    "num1 = int(input(\"Aralık için başlangıç pozitif tam sayısını giriniz\"))\n",
    "num2 = int(input(\"Aralığın bitiş değeri için pozitif tam sayısını giriniz\"))\n",
    "print(\"{} ile {} arasındaki çift sayılar: \" .format(num1,num2))\n",
    "for i in range(num1, num2 + 1):\n",
    "    if is_even(i):\n",
    "        print(i)\n",
    "        total += i\n",
    "        count += 1\n",
    "print(\"Ortalama \", total / count)    \n",
    "\n"
   ]
  },
  {
   "cell_type": "code",
   "execution_count": 30,
   "metadata": {},
   "outputs": [
    {
     "name": "stdout",
     "output_type": "stream",
     "text": [
      "13 Asal sayıdır.\n"
     ]
    }
   ],
   "source": [
    "#Bir sayının asal olup olmadığını bir fonksiyon ile bulup ekrana basalım\n",
    "def primenumber():\n",
    "    number = int(input(\"Sayı girin: \"))\n",
    "    if number > 1:\n",
    "        for i in range(2,number):\n",
    "            if number % i == 0:\n",
    "                print(number, \"Asal sayı değildir.\")\n",
    "                break\n",
    "        else:\n",
    "            print(number, \"Asal sayıdır.\")    \n",
    "    else:\n",
    "        print(number, \"Asal sayı değildir.\")\n",
    "primenumber()"
   ]
  },
  {
   "cell_type": "code",
   "execution_count": 33,
   "metadata": {},
   "outputs": [
    {
     "name": "stdout",
     "output_type": "stream",
     "text": [
      "Sayı asaldır.\n",
      "Asal değildir.\n"
     ]
    }
   ],
   "source": [
    "def asal(num):\n",
    "    i = 2\n",
    "    while i < num:\n",
    "        if num % i == 0:\n",
    "            return \"Asal değildir.\"\n",
    "        i += 1\n",
    "    else: \n",
    "        return \"Sayı asaldır.\"\n",
    "print(asal(17))\n",
    "print(asal(18))"
   ]
  },
  {
   "cell_type": "code",
   "execution_count": 35,
   "metadata": {},
   "outputs": [
    {
     "name": "stdout",
     "output_type": "stream",
     "text": [
      "[3, 17]\n"
     ]
    }
   ],
   "source": [
    "#girilen değerin asal çarpanlarını bulan fonksiyonu yazalım\n",
    "def asal(num):\n",
    "    i = 2\n",
    "    while i < num:\n",
    "        if num % i == 0:\n",
    "            return False\n",
    "        i += 1\n",
    "    else: \n",
    "        return True\n",
    "\n",
    "def asalCarpan(n):\n",
    "    carpanlar = [] #bos liste\n",
    "    j = 2\n",
    "    while n > 1:\n",
    "        if n % j == 0 and asal(j):\n",
    "            carpanlar.append(j)\n",
    "            n /= j\n",
    "        j += 1\n",
    "    return carpanlar\n",
    "    \n",
    "print(asalCarpan(51))\n",
    "\n"
   ]
  },
  {
   "cell_type": "markdown",
   "metadata": {},
   "source": [
    "Sayı tahmin oyunu"
   ]
  },
  {
   "cell_type": "code",
   "execution_count": 37,
   "metadata": {},
   "outputs": [
    {
     "name": "stdout",
     "output_type": "stream",
     "text": [
      "5\n",
      "Oyun Bitti\n"
     ]
    }
   ],
   "source": [
    "from random import randint\n",
    " \n",
    "def get_random_sayi():\n",
    "    return randint(1,10)\n",
    "print(get_random_sayi())\n",
    "guess=0\n",
    " \n",
    "while True:\n",
    "    guess+=1\n",
    "    sayi=int(input(\"1 ile 100 arasında değer girin ,0  ile Çıkın):\"))\n",
    "    if(sayi==0):\n",
    "        print(\"Oyun Bitti\")\n",
    "        break\n",
    "    elif sayi < guess:\n",
    "        print(\"Daha büyük sayı girmen lazım\")\n",
    "    \n",
    "    elif sayi > guess:\n",
    "        print(\"Daha düşük sayı girmen lazım\")\n",
    "    \n",
    "    else:\n",
    "        print(\"random sayı {0}!\".format(get_random_sayi))\n",
    "        print(\"Tahmin ettiğiniz {0}\".format(guess))\n"
   ]
  },
  {
   "cell_type": "code",
   "execution_count": 43,
   "metadata": {},
   "outputs": [
    {
     "name": "stdout",
     "output_type": "stream",
     "text": [
      "Üzgünüm daha büyük bir sayı tahmininde bulunmalısın. \n",
      "Eh işte iyi sayılırsın!\n"
     ]
    }
   ],
   "source": [
    "def guess(num):\n",
    "    count = 1\n",
    "    random_number = int(input(\"Sayı tahmin oyunu için bir tahminde bulunun \"))\n",
    "    while num != random_number:\n",
    "        count += 1\n",
    "        if num < random_number:\n",
    "            print(\"Üzgünüm daha küçük sayı tahmininde bulunmalısın.\")\n",
    "        else:\n",
    "            print(\"Üzgünüm daha büyük bir sayı tahmininde bulunmalısın. \")\n",
    "        random_number = int(input(\"Sayı tahmin oyunu için bir tahminde bulunun \"))\n",
    "    if count == 1:\n",
    "        print(\"Tebrikler, Sayı tahmin oyununda gerçekten çok iyisin!\")\n",
    "    elif count <4:\n",
    "        print(\"Eh işte iyi sayılırsın!\")\n",
    "    else:\n",
    "        print(\"hiç oynamasan daha iyi bence\")\n",
    "   \n",
    "      #  print(f\"Tebrikler, {count}. denemede doğru tahminde bulundunuz!!\")   \n",
    "guess(18)"
   ]
  },
  {
   "cell_type": "code",
   "execution_count": 46,
   "metadata": {},
   "outputs": [
    {
     "name": "stdout",
     "output_type": "stream",
     "text": [
      "Üzgünüm daha büyük bir sayı tahmininde bulunmalısın. \n",
      "Üzgünüm daha büyük bir sayı tahmininde bulunmalısın. \n",
      "Üzgünüm daha küçük sayı tahmininde bulunmalısın.\n",
      "Üzgünüm daha küçük sayı tahmininde bulunmalısın.\n",
      "hiç oynamasan daha iyi bence, 5.denemede bulabildin.\n"
     ]
    }
   ],
   "source": [
    "import random\n",
    "\n",
    "def guess(num):\n",
    "    count = 1\n",
    "    random_number = int(input(\"Sayı tahmin oyunu için bir tahminde bulunun \"))\n",
    "    while num != random_number:\n",
    "        count += 1\n",
    "        if num < random_number:\n",
    "            print(\"Üzgünüm daha küçük sayı tahmininde bulunmalısın.\")\n",
    "        else:\n",
    "            print(\"Üzgünüm daha büyük bir sayı tahmininde bulunmalısın. \")\n",
    "        random_number = int(input(\"Sayı tahmin oyunu için bir tahminde bulunun \"))\n",
    "    if count == 1:\n",
    "        print(\"Tebrikler, Sayı tahmin oyununda gerçekten çok iyisin!\")\n",
    "    elif count <4:\n",
    "        print(\"Eh işte iyi sayılırsın!\")\n",
    "    else:\n",
    "        print(f\"hiç oynamasan daha iyi bence, {count}.denemede bulabildin.\")\n",
    "   \n",
    "      #  print(f\"Tebrikler, {count}. denemede doğru tahminde bulundunuz!!\")   \n",
    "guess(random.randint(1,100))"
   ]
  },
  {
   "cell_type": "code",
   "execution_count": 59,
   "metadata": {},
   "outputs": [
    {
     "name": "stdout",
     "output_type": "stream",
     "text": [
      "Tebrikler doğru tahminde bulundun!\n"
     ]
    }
   ],
   "source": [
    "import random\n",
    "\n",
    "def computer_guess(num):   \n",
    "    start, end = 1, 100\n",
    "    back = ''\n",
    "    while back != \"d\":\n",
    "        if start <= end:\n",
    "           guess = random.randint(start, end)\n",
    "        else:\n",
    "            guess = start \n",
    "\n",
    "        back = input(f\"Tahminde bulunduğum değer {guess}, aklından tuttuğun değerden büyükse b ,küçükse k, eşitse d ifadesini gir. \").lower()\n",
    "        if back == 'b' :\n",
    "            end = guess - 1\n",
    "        elif back == 'k':\n",
    "            start = guess + 1\n",
    "        elif back != 'd':       \n",
    "            print(\"Yanlış ifade kullandınız.\")\n",
    "            break\n",
    "    print(\"Tebrikler doğru tahminde bulundun!\")\n",
    "computer_guess(9) \n"
   ]
  },
  {
   "cell_type": "markdown",
   "metadata": {},
   "source": [
    "Taş , Kağıt , Makas\n",
    "* Taş makası yener\n",
    "* Makas kağıdı yener\n",
    "* Kağıt taşı yener"
   ]
  },
  {
   "cell_type": "code",
   "execution_count": 77,
   "metadata": {},
   "outputs": [
    {
     "name": "stdout",
     "output_type": "stream",
     "text": [
      "Taş Kağıt Makas Oyunumuza Hoş Geldiniz' \n",
      "---------------------------------------\n",
      "\n",
      " 1 -> Taş\n",
      " 2 -> Kağıt\n",
      " 3 -> Makas \n",
      " Oyundan çıkmak isterseniz bu değerler dışında bir değer giriniz.\n",
      "Bilgisarın seçimi: 3\n",
      " Kazanan: Kullanıcı\n",
      "\n",
      " 1 -> Taş\n",
      " 2 -> Kağıt\n",
      " 3 -> Makas \n",
      " Oyundan çıkmak isterseniz bu değerler dışında bir değer giriniz.\n",
      "Berabere, yeniden oynayınız.\n",
      "\n",
      " 1 -> Taş\n",
      " 2 -> Kağıt\n",
      " 3 -> Makas \n",
      " Oyundan çıkmak isterseniz bu değerler dışında bir değer giriniz.\n",
      "Berabere, yeniden oynayınız.\n",
      "\n",
      " 1 -> Taş\n",
      " 2 -> Kağıt\n",
      " 3 -> Makas \n",
      " Oyundan çıkmak isterseniz bu değerler dışında bir değer giriniz.\n",
      "Bilgisarın seçimi: 1\n",
      " Kazanan: Kullanıcı\n",
      "\n",
      " 1 -> Taş\n",
      " 2 -> Kağıt\n",
      " 3 -> Makas \n",
      " Oyundan çıkmak isterseniz bu değerler dışında bir değer giriniz.\n",
      "Berabere, yeniden oynayınız.\n",
      "\n",
      " 1 -> Taş\n",
      " 2 -> Kağıt\n",
      " 3 -> Makas \n",
      " Oyundan çıkmak isterseniz bu değerler dışında bir değer giriniz.\n",
      "Bilgisarın seçimi: 3\n",
      " Kazanan: Bilgisayar\n",
      "\n",
      " 1 -> Taş\n",
      " 2 -> Kağıt\n",
      " 3 -> Makas \n",
      " Oyundan çıkmak isterseniz bu değerler dışında bir değer giriniz.\n",
      "Bilgisarın seçimi: 1\n",
      " Kazanan: Kullanıcı\n",
      "\n",
      " 1 -> Taş\n",
      " 2 -> Kağıt\n",
      " 3 -> Makas \n",
      " Oyundan çıkmak isterseniz bu değerler dışında bir değer giriniz.\n",
      "Bilgisarın seçimi: 1\n",
      " Kazanan: Kullanıcı\n",
      "\n",
      " 1 -> Taş\n",
      " 2 -> Kağıt\n",
      " 3 -> Makas \n",
      " Oyundan çıkmak isterseniz bu değerler dışında bir değer giriniz.\n",
      "Bilgisarın seçimi: 1\n",
      " Kazanan: Bilgisayar\n",
      "\n",
      " 1 -> Taş\n",
      " 2 -> Kağıt\n",
      " 3 -> Makas \n",
      " Oyundan çıkmak isterseniz bu değerler dışında bir değer giriniz.\n",
      "Bilgisarın seçimi: 3\n",
      " Kazanan: Kullanıcı\n",
      "\n",
      " 1 -> Taş\n",
      " 2 -> Kağıt\n",
      " 3 -> Makas \n",
      " Oyundan çıkmak isterseniz bu değerler dışında bir değer giriniz.\n",
      "Bilgisarın seçimi: 3\n",
      " Kazanan: Bilgisayar\n",
      "\n",
      " 1 -> Taş\n",
      " 2 -> Kağıt\n",
      " 3 -> Makas \n",
      " Oyundan çıkmak isterseniz bu değerler dışında bir değer giriniz.\n",
      "Berabere, yeniden oynayınız.\n",
      "\n",
      " 1 -> Taş\n",
      " 2 -> Kağıt\n",
      " 3 -> Makas \n",
      " Oyundan çıkmak isterseniz bu değerler dışında bir değer giriniz.\n",
      "\n",
      "Kullanıcı skoru: 500\n",
      "Bilgisayarın skoru: 300\n",
      "Kullanıcı 200 farkla bilgisayara yenilmiştir\n"
     ]
    }
   ],
   "source": [
    "import random \n",
    "\n",
    "player_score , computer_score = 0,0\n",
    "computer_choice = 1\n",
    "def print_result(winner = \"Bilgisayar\"):\n",
    "    global computer_score, player_score\n",
    "    print(f\"Bilgisarın seçimi: {computer_choice}\\n Kazanan: {winner}\")\n",
    "    if winner == \"Bilgisayar\":\n",
    "        computer_score += 100\n",
    "    else:\n",
    "        player_score += 100\n",
    "\n",
    "\n",
    "print(\"Taş Kağıt Makas Oyunumuza Hoş Geldiniz' \\n\" +(\"-\"*39))\n",
    "\n",
    "while True:\n",
    "    print(\"\\n 1 -> Taş\\n 2 -> Kağıt\\n 3 -> Makas \\n Oyundan çıkmak isterseniz bu değerler dışında bir değer giriniz.\")\n",
    "    player_choice = int(input(\"Seçiminizi yapınız: \"))\n",
    "    computer_choice = random.choice([1, 2, 3])\n",
    "   \n",
    "    if player_choice == computer_choice:\n",
    "        print(\"Berabere, yeniden oynayınız.\")\n",
    "    elif player_choice == 1:\n",
    "        if computer_choice == 2:\n",
    "            print_result()       \n",
    "        else:\n",
    "            print_result(\"Kullanıcı\")          \n",
    "    elif player_choice == 2:\n",
    "        if computer_choice == 1:\n",
    "           print_result(\"Kullanıcı\")\n",
    "        else:\n",
    "           print_result()\n",
    "    elif player_choice == 3:\n",
    "        if computer_choice == 1:\n",
    "          print_result()\n",
    "        else:\n",
    "          print_result(\"Kullanıcı\")\n",
    "    else:\n",
    "        break\n",
    "    \n",
    "print(f\"\\nKullanıcı skoru: {player_score}\\nBilgisayarın skoru: {computer_score}\")\n",
    "if player_score < computer_score:\n",
    "    print(f\"Kullanıcı {computer_score - player_score} farkla bilgisayara yenilmiştir.\")\n",
    "elif player_score >computer_score:\n",
    "    print(f\"Kullanıcı {player_score - computer_score} farkla bilgisayara yenilmiştir\")\n",
    "else:\n",
    "    print(\"Oyun berabere!\")"
   ]
  },
  {
   "cell_type": "markdown",
   "metadata": {},
   "source": [
    "Python'da Modüller"
   ]
  },
  {
   "cell_type": "code",
   "execution_count": 78,
   "metadata": {},
   "outputs": [
    {
     "name": "stdout",
     "output_type": "stream",
     "text": [
      "120\n",
      "720\n"
     ]
    }
   ],
   "source": [
    "import math as m\n",
    "\n",
    "x = m.factorial(5)\n",
    "print(x)\n",
    "print(m.factorial(6))"
   ]
  },
  {
   "cell_type": "code",
   "execution_count": 79,
   "metadata": {},
   "outputs": [
    {
     "name": "stdout",
     "output_type": "stream",
     "text": [
      "120\n"
     ]
    }
   ],
   "source": [
    "from math import factorial\n",
    "print(factorial(5))"
   ]
  },
  {
   "cell_type": "code",
   "execution_count": 80,
   "metadata": {},
   "outputs": [
    {
     "name": "stdout",
     "output_type": "stream",
     "text": [
      "120\n"
     ]
    }
   ],
   "source": [
    "from math import factorial as f\n",
    "print(f(5))"
   ]
  },
  {
   "cell_type": "markdown",
   "metadata": {},
   "source": [
    "Veri Yapıları\n",
    "\n",
    "* List\n",
    "* Tuple\n",
    "* Set\n",
    "* Dictionary\n"
   ]
  },
  {
   "cell_type": "markdown",
   "metadata": {},
   "source": [
    "**List**\n",
    "* index ile erişilebilir, ordered yani sıralıdırlar.\n",
    "* Değiştirelebilirlerdir. (mutable) yani liste içine eklediğiniz bir veriyi değiştirebilirsiniz\n",
    "* Köşeli parantez içerisinde tanımlanır. [] Liste elemanları virgüllerle birbirinden ayrılır.\n",
    "* Farklı tipte veriler içerebilir. --> string , int , float\n",
    "* Aynı değerlere sahip iki ögeye sahip olabilirler yani duplicate veri olabilir"
   ]
  },
  {
   "cell_type": "code",
   "execution_count": 82,
   "metadata": {},
   "outputs": [],
   "source": [
    "list_int = [1,2,5,6,0]\n",
    "list_string = [\"Ceren\",\"Ceyda\"]\n",
    "list_bool = [True,False]\n",
    "list_float = [3.14,12.7,87.3]\n",
    "\n",
    "list_mix =[\"Ceren\",2,True,3.14,\"Ceyda\",6,False]\n"
   ]
  },
  {
   "cell_type": "code",
   "execution_count": 86,
   "metadata": {},
   "outputs": [
    {
     "name": "stdout",
     "output_type": "stream",
     "text": [
      "['Ceren', 2, True, 3.14, 'Ceyda', 6, False]\n",
      "0. index değeri:  Ceren\n",
      "2. index değeri:  True\n",
      "--------------------\n",
      "-1. index değeri:  False\n"
     ]
    }
   ],
   "source": [
    "print(list_mix)\n",
    "print(\"0. index değeri: \", list_mix[0])\n",
    "print(\"2. index değeri: \", list_mix[2])\n",
    "\n",
    "#negatif indexler ile erişim sağlanılabilir.\n",
    "print(\"-\"*20)\n",
    "print(\"-1. index değeri: \", list_mix[-1])"
   ]
  },
  {
   "cell_type": "code",
   "execution_count": 88,
   "metadata": {},
   "outputs": [
    {
     "ename": "IndexError",
     "evalue": "list index out of range",
     "output_type": "error",
     "traceback": [
      "\u001b[1;31m---------------------------------------------------------------------------\u001b[0m",
      "\u001b[1;31mIndexError\u001b[0m                                Traceback (most recent call last)",
      "Input \u001b[1;32mIn [88]\u001b[0m, in \u001b[0;36m<cell line: 1>\u001b[1;34m()\u001b[0m\n\u001b[1;32m----> 1\u001b[0m list_mix[\u001b[39m7\u001b[39;49m]\n",
      "\u001b[1;31mIndexError\u001b[0m: list index out of range"
     ]
    }
   ],
   "source": [
    "list_mix[7] #Liste uzunluğunndan daha büyük bir ögeye erişmeye çalıştığımızda 'Index Error' hatası alırız."
   ]
  },
  {
   "cell_type": "code",
   "execution_count": 87,
   "metadata": {},
   "outputs": [
    {
     "ename": "TypeError",
     "evalue": "list indices must be integers or slices, not float",
     "output_type": "error",
     "traceback": [
      "\u001b[1;31m---------------------------------------------------------------------------\u001b[0m",
      "\u001b[1;31mTypeError\u001b[0m                                 Traceback (most recent call last)",
      "Input \u001b[1;32mIn [87]\u001b[0m, in \u001b[0;36m<cell line: 1>\u001b[1;34m()\u001b[0m\n\u001b[1;32m----> 1\u001b[0m list_mix[\u001b[39m4.5\u001b[39;49m]\n",
      "\u001b[1;31mTypeError\u001b[0m: list indices must be integers or slices, not float"
     ]
    }
   ],
   "source": [
    "list_mix[4.5] #indexler int değerinde olmalı, type error"
   ]
  },
  {
   "cell_type": "code",
   "execution_count": 91,
   "metadata": {},
   "outputs": [
    {
     "name": "stdout",
     "output_type": "stream",
     "text": [
      "Liste uzunluğu:  4\n",
      "2. indexteki string ifadenin uzunluğu:  4\n",
      "1.indexteki elemanın tipi  <class 'str'>\n"
     ]
    }
   ],
   "source": [
    "#len()\n",
    "my_list =[1, 'x', \"İdil\", True]\n",
    "print(\"Liste uzunluğu: \", len(my_list))\n",
    "print(\"2. indexteki string ifadenin uzunluğu: \", len(my_list[2]))\n",
    "print(\"1.indexteki elemanın tipi \",type(my_list[1]))"
   ]
  },
  {
   "cell_type": "markdown",
   "metadata": {},
   "source": [
    "**Slicing**\n"
   ]
  },
  {
   "cell_type": "code",
   "execution_count": 92,
   "metadata": {},
   "outputs": [
    {
     "name": "stdout",
     "output_type": "stream",
     "text": [
      "['Buket', 20, 'Sisterslab', 12.4, True, 23, 34.9]\n",
      "['Sisterslab', 12.4, True]\n"
     ]
    }
   ],
   "source": [
    "my_list = [\"Buket\", 20, \"Sisterslab\", 12.40, True, 23, 34.9]\n",
    "print(my_list)\n",
    "print(my_list[2:5])"
   ]
  },
  {
   "cell_type": "code",
   "execution_count": 94,
   "metadata": {},
   "outputs": [
    {
     "name": "stdout",
     "output_type": "stream",
     "text": [
      "['Buket', 20, 'Sisterslab', 12.4]\n"
     ]
    }
   ],
   "source": [
    "#ilk dört elemanı ekrana basalım\n",
    "print(my_list[:4])"
   ]
  },
  {
   "cell_type": "code",
   "execution_count": 95,
   "metadata": {},
   "outputs": [
    {
     "name": "stdout",
     "output_type": "stream",
     "text": [
      "['Buket', 'Sisterslab', True, 34.9]\n"
     ]
    }
   ],
   "source": [
    "#her iki elemanda bir atlayarak elemanları ekrana yazdıralım.\n",
    "print(my_list[::2])"
   ]
  },
  {
   "cell_type": "code",
   "execution_count": 96,
   "metadata": {},
   "outputs": [
    {
     "name": "stdout",
     "output_type": "stream",
     "text": [
      "[34.9, 23, True, 12.4, 'Sisterslab', 20, 'Buket']\n"
     ]
    }
   ],
   "source": [
    "#listeyi tersten yazzalım.\n",
    "print(my_list[::-1])"
   ]
  },
  {
   "cell_type": "code",
   "execution_count": 101,
   "metadata": {},
   "outputs": [
    {
     "name": "stdout",
     "output_type": "stream",
     "text": [
      "[True, 23, 34.9]\n"
     ]
    }
   ],
   "source": [
    "#4. elemandan sonraki elemanları ekrana basalım.\n",
    "print(my_list[4:])"
   ]
  },
  {
   "cell_type": "code",
   "execution_count": 103,
   "metadata": {},
   "outputs": [
    {
     "name": "stdout",
     "output_type": "stream",
     "text": [
      "Buket\n",
      "20\n",
      "Sisterslab\n",
      "12.4\n",
      "True\n",
      "23\n",
      "34.9\n"
     ]
    }
   ],
   "source": [
    "#Döngü ile listenin elemanlarını ekrana basalım\n",
    "for item in my_list:\n",
    "    print(item)"
   ]
  },
  {
   "cell_type": "code",
   "execution_count": 104,
   "metadata": {},
   "outputs": [
    {
     "name": "stdout",
     "output_type": "stream",
     "text": [
      "Buket 20 Sisterslab 12.4 True 23 34.9 "
     ]
    }
   ],
   "source": [
    "#yan yana yazdırma\n",
    "for i in my_list:\n",
    "    print(i, end=\" \")"
   ]
  },
  {
   "cell_type": "code",
   "execution_count": 108,
   "metadata": {},
   "outputs": [
    {
     "name": "stdout",
     "output_type": "stream",
     "text": [
      "0. index değeri: Buket\n",
      "1. index değeri: 20\n",
      "2. index değeri: Sisterslab\n",
      "3. index değeri: 12.4\n",
      "4. index değeri: True\n",
      "5. index değeri: 23\n",
      "6. index değeri: 34.9\n"
     ]
    }
   ],
   "source": [
    "for i in range(len(my_list)):\n",
    "    print(f\"{i}. index değeri: {my_list[i]}\")\n",
    "   # print(f\"{}. index değeri: {} \" .format(i,my_list[i]))"
   ]
  },
  {
   "cell_type": "markdown",
   "metadata": {},
   "source": [
    "**Listeye Eleman Ekleme**\n",
    "\n",
    "**append()** -> Listenin sonuna yeni elemanı ekler"
   ]
  },
  {
   "cell_type": "code",
   "execution_count": null,
   "metadata": {},
   "outputs": [],
   "source": [
    "print(my_list)\n",
    "\n",
    "my_list.append(10)\n",
    "\n",
    "print(my_list)"
   ]
  },
  {
   "cell_type": "markdown",
   "metadata": {},
   "source": [
    "**insert()** elemanı listede konumlandırmak istediğiniz yere ekler.Liste kaydırılacağı için iki parametre ister.\n",
    "insert(index,value)"
   ]
  },
  {
   "cell_type": "code",
   "execution_count": null,
   "metadata": {},
   "outputs": [],
   "source": [
    "print(my_list)\n",
    "my_list.insert(0, \"Nurefşan\")\n",
    "print(my_list)"
   ]
  },
  {
   "cell_type": "markdown",
   "metadata": {},
   "source": [
    "**extend()** listenin sonuna ekleme yapar"
   ]
  },
  {
   "cell_type": "code",
   "execution_count": 121,
   "metadata": {},
   "outputs": [
    {
     "name": "stdout",
     "output_type": "stream",
     "text": [
      "['Buket', 20, 'Sisterslab', 12.4, True, 23, 34.9]\n",
      "['Buket', 20, 'Sisterslab', 12.4, True, 23, 34.9, 1, 2, 4]\n"
     ]
    }
   ],
   "source": [
    "my_list = [\"Buket\", 20, \"Sisterslab\", 12.40, True, 23, 34.9]\n",
    "print(my_list)\n",
    "my_list.extend([1, 2, 4])\n",
    "print(my_list)"
   ]
  },
  {
   "cell_type": "markdown",
   "metadata": {},
   "source": [
    "Liste elemanları üzerinde değişiklik"
   ]
  },
  {
   "cell_type": "code",
   "execution_count": 122,
   "metadata": {},
   "outputs": [
    {
     "name": "stdout",
     "output_type": "stream",
     "text": [
      "['Buket', 20, 'Sisterslab', 12.4, True, 23, 34.9, 1, 2, 4]\n",
      "['Buket', 'İdil', 'Sisterslab', 12.4, True, 23, 34.9, 1, 2, 4]\n"
     ]
    }
   ],
   "source": [
    "print(my_list)\n",
    "my_list[1] = \"İdil\"\n",
    "print(my_list)"
   ]
  }
 ],
 "metadata": {
  "interpreter": {
   "hash": "ad2bdc8ecc057115af97d19610ffacc2b4e99fae6737bb82f5d7fb13d2f2c186"
  },
  "kernelspec": {
   "display_name": "Python 3.9.12 ('base')",
   "language": "python",
   "name": "python3"
  },
  "language_info": {
   "codemirror_mode": {
    "name": "ipython",
    "version": 3
   },
   "file_extension": ".py",
   "mimetype": "text/x-python",
   "name": "python",
   "nbconvert_exporter": "python",
   "pygments_lexer": "ipython3",
   "version": "3.9.12"
  },
  "orig_nbformat": 4
 },
 "nbformat": 4,
 "nbformat_minor": 2
}
