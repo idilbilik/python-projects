{
 "cells": [
  {
   "cell_type": "code",
   "execution_count": 1,
   "metadata": {},
   "outputs": [
    {
     "name": "stdout",
     "output_type": "stream",
     "text": [
      "Hello World\n"
     ]
    }
   ],
   "source": [
    "print(\"Hello World\")"
   ]
  },
  {
   "cell_type": "markdown",
   "metadata": {},
   "source": [
    "Değişkenler\n",
    "\n",
    "variable_name = variable_value"
   ]
  },
  {
   "cell_type": "code",
   "execution_count": 1,
   "metadata": {},
   "outputs": [
    {
     "name": "stdout",
     "output_type": "stream",
     "text": [
      "Buket\n",
      "28\n",
      "19000.6\n"
     ]
    }
   ],
   "source": [
    "name = \"Buket\"\n",
    "age = 28\n",
    "salary = 19000.60\n",
    "print(name)\n",
    "print(age)\n",
    "print(salary)"
   ]
  },
  {
   "cell_type": "markdown",
   "metadata": {},
   "source": [
    "Bir değişkennin değerini değiştirme"
   ]
  },
  {
   "cell_type": "code",
   "execution_count": 3,
   "metadata": {},
   "outputs": [
    {
     "name": "stdout",
     "output_type": "stream",
     "text": [
      "25\n"
     ]
    }
   ],
   "source": [
    "variable = 25\n",
    "print(variable)"
   ]
  },
  {
   "cell_type": "code",
   "execution_count": 4,
   "metadata": {},
   "outputs": [
    {
     "data": {
      "text/plain": [
       "int"
      ]
     },
     "execution_count": 4,
     "metadata": {},
     "output_type": "execute_result"
    }
   ],
   "source": [
    "type(variable)"
   ]
  },
  {
   "cell_type": "code",
   "execution_count": 5,
   "metadata": {},
   "outputs": [
    {
     "name": "stdout",
     "output_type": "stream",
     "text": [
      "Merve\n"
     ]
    }
   ],
   "source": [
    "variable = \"Merve\"\n",
    "print(variable)"
   ]
  },
  {
   "cell_type": "code",
   "execution_count": 6,
   "metadata": {},
   "outputs": [
    {
     "data": {
      "text/plain": [
       "str"
      ]
     },
     "execution_count": 6,
     "metadata": {},
     "output_type": "execute_result"
    }
   ],
   "source": [
    "type(variable)"
   ]
  },
  {
   "cell_type": "code",
   "execution_count": 7,
   "metadata": {},
   "outputs": [
    {
     "name": "stdout",
     "output_type": "stream",
     "text": [
      "Aysel\n",
      "Aysel\n"
     ]
    }
   ],
   "source": [
    "name = \"Aysel\"\n",
    "Name = \"Aydin\"\n",
    "print(name)\n",
    "print(name)"
   ]
  },
  {
   "cell_type": "markdown",
   "metadata": {},
   "source": [
    "**Veri Tipleri**\n",
    "* Int\n",
    "* Float\n",
    "* String\n",
    "* Boolean"
   ]
  },
  {
   "cell_type": "code",
   "execution_count": null,
   "metadata": {},
   "outputs": [],
   "source": [
    "age = 30\n",
    "type(age)"
   ]
  },
  {
   "cell_type": "code",
   "execution_count": null,
   "metadata": {},
   "outputs": [],
   "source": [
    "salary = 1000.40\n",
    "type(salary)"
   ]
  },
  {
   "cell_type": "code",
   "execution_count": null,
   "metadata": {},
   "outputs": [],
   "source": [
    "isNumber = False\n",
    "type(isNumber)"
   ]
  },
  {
   "cell_type": "code",
   "execution_count": null,
   "metadata": {},
   "outputs": [],
   "source": [
    "name = \"Merve\"\n",
    "print(name)"
   ]
  },
  {
   "cell_type": "code",
   "execution_count": null,
   "metadata": {},
   "outputs": [],
   "source": [
    "print(name[0])"
   ]
  },
  {
   "cell_type": "code",
   "execution_count": null,
   "metadata": {},
   "outputs": [],
   "source": [
    "print(name[1:3])"
   ]
  },
  {
   "cell_type": "code",
   "execution_count": null,
   "metadata": {},
   "outputs": [],
   "source": [
    "print(len(name))"
   ]
  },
  {
   "cell_type": "code",
   "execution_count": null,
   "metadata": {},
   "outputs": [],
   "source": [
    "print(name + \" Güngör\")"
   ]
  },
  {
   "cell_type": "code",
   "execution_count": null,
   "metadata": {},
   "outputs": [],
   "source": [
    "type(name)"
   ]
  },
  {
   "cell_type": "markdown",
   "metadata": {},
   "source": [
    "Python'da Çoklu Atama İşlemleri"
   ]
  },
  {
   "cell_type": "code",
   "execution_count": null,
   "metadata": {},
   "outputs": [],
   "source": [
    "num1 = num2 = num3 = 25\n",
    "print(num2)"
   ]
  },
  {
   "cell_type": "code",
   "execution_count": null,
   "metadata": {},
   "outputs": [],
   "source": [
    "name = \"Buket\"\n",
    "age = 28\n",
    "salary = 19000.60"
   ]
  },
  {
   "cell_type": "code",
   "execution_count": null,
   "metadata": {},
   "outputs": [],
   "source": [
    "name, age, salary = \"Buket\", 28, 19000.50\n",
    "print(name)\n",
    "print(age)\n",
    "print(salary)"
   ]
  },
  {
   "cell_type": "markdown",
   "metadata": {},
   "source": [
    "Değişkenlerde Kapsam"
   ]
  },
  {
   "cell_type": "code",
   "execution_count": null,
   "metadata": {},
   "outputs": [],
   "source": [
    "##Yerel Değişken\n",
    "def getSalary1():\n",
    "  price = 500\n",
    "  print(\"Salary1\", price)\n",
    "\n",
    "def getSalary2():\n",
    "  print(\"Salary2\", price)\n",
    "\n",
    "  getSalary1()\n",
    "  getSalary2()"
   ]
  },
  {
   "cell_type": "code",
   "execution_count": null,
   "metadata": {},
   "outputs": [],
   "source": [
    "#Global Değişken\n",
    "price = 500\n",
    "def getSalary1():\n",
    "  print(\"Salary1\", price)\n",
    "\n",
    "def getSalary2():\n",
    "  print(\"Salary2\", price)\n",
    "\n",
    "getSalary1()\n",
    "getSalary2()"
   ]
  },
  {
   "cell_type": "code",
   "execution_count": null,
   "metadata": {},
   "outputs": [],
   "source": [
    "##ilk maaş bilgisi 600, ikincisi 500\n",
    "price = 500\n",
    "def getSalary1():\n",
    "  price = 600\n",
    "  print(\"Salary1\", price)\n",
    "\n",
    "def getSalary2():\n",
    "  print(\"Salary2\", price)\n",
    "\n",
    "getSalary1()\n",
    "getSalary2()"
   ]
  },
  {
   "cell_type": "code",
   "execution_count": null,
   "metadata": {},
   "outputs": [],
   "source": [
    "#Globalde tanımlanan price değerinin değiştirilmesi\n",
    "price = 500 #Global Değişken\n",
    "def getSalary1():\n",
    "  global price\n",
    "  price = 600 #Yerel Değişkenden global değişkene\n",
    "  print(price)\n",
    "\n",
    "def getSalary2():\n",
    "  print(price) \n",
    "\n",
    "print(\"1\", price)\n",
    "getSalary1()\n",
    "print(\"2\", price)\n",
    "getSalary2()\n",
    "print(\"3\", price)"
   ]
  },
  {
   "cell_type": "markdown",
   "metadata": {},
   "source": [
    "**Operatörler**\n",
    "Toplama \n",
    "\n",
    "Çıkarma\n",
    "\n",
    "Çarpma\n",
    "\n",
    "Bölme\n",
    "\n",
    "Int Bölme\n",
    "\n",
    "Mod\n",
    "\n",
    "Üst Alma"
   ]
  },
  {
   "cell_type": "code",
   "execution_count": null,
   "metadata": {},
   "outputs": [],
   "source": [
    "print(\"1+1 \", 1+1)\n",
    "print(\"6-1 \", 6-1)\n",
    "print(\"2*3 \", 2*3)\n",
    "\n",
    "print(\"6/3 \" ,6/3) #Float bir dönüş\n",
    "print(\"6//4 \", 6//4) #Int bir dönüş\n",
    "print(\"int(6/3) \", int(6/3)) #Int bir dönüş\n",
    "\n",
    "print(\"6%4 \", 6%4) #6'nın 4 e bölümünden kalan değer\n",
    "print(\"2**3 \", 2**3)"
   ]
  },
  {
   "cell_type": "markdown",
   "metadata": {},
   "source": [
    "**İlişkisel (karşılaştırma) operatörler**\n",
    "\n",
    "**>** Büyüktür\n",
    "\n",
    "**<** Küçüktür\n",
    "\n",
    "**<=** Küçük Eşittir\n",
    "\n",
    "**>=** Büyük Eşittir\n",
    "\n",
    "**==** Eşittir\n",
    "\n",
    "**!=** Eşit Değildir"
   ]
  },
  {
   "cell_type": "code",
   "execution_count": null,
   "metadata": {},
   "outputs": [],
   "source": [
    "a = 10\n",
    "b = 7\n",
    "\n",
    "print(a > b)\n",
    "print(a < b)\n",
    "print(a <= b)\n",
    "print(a >= b)\n",
    "print(a == b)\n",
    "print(a != b)"
   ]
  },
  {
   "cell_type": "markdown",
   "metadata": {},
   "source": [
    "**Atama Operatörleri**\n",
    "\n",
    "=, +=, -=, /=, *=, //="
   ]
  },
  {
   "cell_type": "code",
   "execution_count": null,
   "metadata": {},
   "outputs": [],
   "source": [
    "x = 1\n",
    "print(\"İlk Değer \", x)\n",
    "\n",
    "x += 1 #x= x + 2\n",
    "print(\"Arttırma \", x)\n",
    "\n",
    "x -= 1\n",
    "print(\"Azaltma \", x)\n",
    "\n",
    "x *= 2\n",
    "print(\"Çarpma \", x)\n",
    "\n",
    "x /= 2\n",
    "print(\"Bölme \", x)\n",
    "\n",
    "x = 2\n",
    "x //= 2\n",
    "print(\"Int Bölme \", x)"
   ]
  },
  {
   "cell_type": "markdown",
   "metadata": {},
   "source": [
    "print() ve format()"
   ]
  },
  {
   "cell_type": "code",
   "execution_count": null,
   "metadata": {},
   "outputs": [],
   "source": [
    "name = \"Ebrar\"\n",
    "print(\"Adı \", name)"
   ]
  },
  {
   "cell_type": "code",
   "execution_count": null,
   "metadata": {},
   "outputs": [],
   "source": [
    "print(\"Adınızı girin \")\n",
    "\n",
    "name = input()\n",
    "print(\"Girdiğiniz isim: \", name)"
   ]
  },
  {
   "cell_type": "code",
   "execution_count": null,
   "metadata": {},
   "outputs": [],
   "source": [
    "print(\"Yaşınızı girin \")\n",
    "\n",
    "age = int(input())\n",
    "print(\"Kullanıcının yaşı. : \", age)"
   ]
  },
  {
   "cell_type": "code",
   "execution_count": null,
   "metadata": {},
   "outputs": [],
   "source": [
    "print(\"Maaş Bilgisini Giriniz: \")\n",
    "salary = float(input())\n",
    "\n",
    "print(\"Kullanıcıya bu ay {} lira yatacak.\" .format(salary))"
   ]
  },
  {
   "cell_type": "code",
   "execution_count": null,
   "metadata": {},
   "outputs": [],
   "source": [
    "name = \"Aysel\"\n",
    "salary = 1300\n",
    "\n",
    "print(\"{} kişisine bu ay {} lira yatacak.\" .format(name, salary))"
   ]
  },
  {
   "cell_type": "markdown",
   "metadata": {},
   "source": [
    "Python Comments\n",
    "\n",
    "#"
   ]
  },
  {
   "cell_type": "code",
   "execution_count": null,
   "metadata": {},
   "outputs": [],
   "source": [
    "#print(\"Tek satır yorum ekleme\")\n",
    "print(\"Selamlar\")"
   ]
  },
  {
   "cell_type": "code",
   "execution_count": null,
   "metadata": {},
   "outputs": [],
   "source": [
    "'''\n",
    "Çoklu satırda yorum ekleme\n",
    "print(\"1. selam\")\n",
    "print(\"2. selam\")\n",
    "print(\"3. selam\")\n",
    "'''\n",
    "print(\"4. selam\")"
   ]
  },
  {
   "cell_type": "code",
   "execution_count": null,
   "metadata": {},
   "outputs": [],
   "source": [
    "print(\"hellooooo\") # Bu kod satırı ekrana bir text basar\n",
    "\n",
    "# Bu kod satırı ekrana bir text basar\n",
    "print(\"world\")"
   ]
  },
  {
   "cell_type": "markdown",
   "metadata": {},
   "source": [
    "Tip Dönüşümü"
   ]
  },
  {
   "cell_type": "code",
   "execution_count": null,
   "metadata": {},
   "outputs": [],
   "source": [
    "number = 9\n",
    "language = \"Python\"\n",
    "result = 100.40\n",
    "\n",
    "print(number)\n",
    "print(language)\n",
    "print(result)"
   ]
  },
  {
   "cell_type": "code",
   "execution_count": null,
   "metadata": {},
   "outputs": [],
   "source": [
    "print(float(number)) # int -> float"
   ]
  },
  {
   "cell_type": "code",
   "execution_count": null,
   "metadata": {},
   "outputs": [],
   "source": [
    "print(int(result)) # float -> int"
   ]
  },
  {
   "cell_type": "code",
   "execution_count": null,
   "metadata": {},
   "outputs": [],
   "source": [
    "print(int(\"75\"))"
   ]
  },
  {
   "cell_type": "code",
   "execution_count": null,
   "metadata": {},
   "outputs": [],
   "source": [
    "print(int(True))"
   ]
  },
  {
   "cell_type": "code",
   "execution_count": null,
   "metadata": {},
   "outputs": [],
   "source": [
    "print(int(False))"
   ]
  },
  {
   "cell_type": "code",
   "execution_count": null,
   "metadata": {},
   "outputs": [],
   "source": [
    "print(bool(1))"
   ]
  },
  {
   "cell_type": "code",
   "execution_count": null,
   "metadata": {},
   "outputs": [],
   "source": [
    "print(bool(0))"
   ]
  },
  {
   "cell_type": "code",
   "execution_count": 9,
   "metadata": {},
   "outputs": [
    {
     "name": "stdout",
     "output_type": "stream",
     "text": [
      "True\n"
     ]
    }
   ],
   "source": [
    "print(bool(3.16789))"
   ]
  },
  {
   "cell_type": "code",
   "execution_count": 8,
   "metadata": {},
   "outputs": [
    {
     "name": "stdout",
     "output_type": "stream",
     "text": [
      "True\n"
     ]
    }
   ],
   "source": [
    "print(bool(-5))"
   ]
  },
  {
   "cell_type": "markdown",
   "metadata": {},
   "source": [
    "**Karar Yapıları**\n",
    "\n",
    "**>** Büyüktür\n",
    "\n",
    "**<** Küçüktür\n",
    "\n",
    "**<=** Küçük Eşittir\n",
    "\n",
    "**>=** Büyük Eşittir\n",
    "\n",
    "**==** Eşittir\n",
    "\n",
    "**!=** Eşit Değildir"
   ]
  },
  {
   "cell_type": "code",
   "execution_count": null,
   "metadata": {},
   "outputs": [],
   "source": [
    "x = 67\n",
    "y = 106\n",
    "\n",
    "if y > x :\n",
    "  print(\"y x ten büyüktür.\")"
   ]
  },
  {
   "cell_type": "code",
   "execution_count": null,
   "metadata": {},
   "outputs": [],
   "source": [
    "a = 28\n",
    "b = 28\n",
    "\n",
    "if b > a:\n",
    "  print(\"b a dan büyüktür\")\n",
    "elif a == b:\n",
    "  print(\"a b ye eşittir.\")"
   ]
  },
  {
   "cell_type": "code",
   "execution_count": null,
   "metadata": {},
   "outputs": [],
   "source": [
    "a = 340\n",
    "b = 232\n",
    "\n",
    "if b >a:\n",
    "  print(\"b a dan büyüktür\")\n",
    "elif a == b:\n",
    "  print(\"b  a ya eşittir\")\n",
    "  print(\"selam\")\n",
    "else:\n",
    "  print(\"a b den büyüktür\")"
   ]
  },
  {
   "cell_type": "markdown",
   "metadata": {},
   "source": [
    "İç içe kontrol yapıları"
   ]
  },
  {
   "cell_type": "code",
   "execution_count": null,
   "metadata": {},
   "outputs": [],
   "source": [
    "num1 = int(input(\"ilk sayıyı giriniz \"))\n",
    "num2 = int(input(\"ikinci sayıyı giriniz \"))\n",
    "\n",
    "if num1 >= num2:\n",
    "  if num1 == num2:\n",
    "    print(num1, 've', num2, 'eşittir')\n",
    "  else:\n",
    "    print('{} değeri {} değerinden büyüktür' .format(num1,num2))\n",
    "else:\n",
    "  print('{} değeri {} den küçüktür' .format(num1,num2))"
   ]
  },
  {
   "cell_type": "code",
   "execution_count": null,
   "metadata": {},
   "outputs": [],
   "source": [
    "number = -3\n",
    "if number > 0: print(\"pozitif sayıdır\")\n",
    "else: print(\"negatif sayıdır\")"
   ]
  },
  {
   "cell_type": "code",
   "execution_count": null,
   "metadata": {},
   "outputs": [],
   "source": [
    "x = 10\n",
    "y = int(input(\"Tahmin edilen değer \"))\n",
    "\n",
    "if x == y:\n",
    "  print(\"harikasın! ilk denemede buldun\")\n",
    "elif x < y:\n",
    "  print(\"Tahmin edilen değer büyük\")\n",
    "elif x > y:\n",
    "  print(\"Tahmin edilen değer küçük\")"
   ]
  },
  {
   "cell_type": "markdown",
   "metadata": {},
   "source": [
    "\n",
    "Döngüler\n",
    "\n",
    "range(başlangıç değeri, bitiş değeri, değişim miktarı)\n",
    "\n",
    "range(bitiş değeri) -> değişim miktartı 1 1 artar başlangıç değeri -> 0 dan başlar"
   ]
  },
  {
   "cell_type": "code",
   "execution_count": null,
   "metadata": {},
   "outputs": [],
   "source": [
    "range(5)"
   ]
  },
  {
   "cell_type": "code",
   "execution_count": null,
   "metadata": {},
   "outputs": [],
   "source": [
    "range(2, 10, 2)"
   ]
  },
  {
   "cell_type": "code",
   "execution_count": null,
   "metadata": {},
   "outputs": [],
   "source": [
    "range(20, 2, -2)"
   ]
  },
  {
   "cell_type": "markdown",
   "metadata": {},
   "source": [
    "for item in loop: \n",
    "  \n",
    "    print(item)"
   ]
  },
  {
   "cell_type": "code",
   "execution_count": null,
   "metadata": {},
   "outputs": [],
   "source": [
    "for item in range(5):\n",
    "  print(item)"
   ]
  },
  {
   "cell_type": "code",
   "execution_count": null,
   "metadata": {},
   "outputs": [],
   "source": [
    "for i in range(4,10):\n",
    "  print(i) "
   ]
  },
  {
   "cell_type": "code",
   "execution_count": null,
   "metadata": {},
   "outputs": [],
   "source": [
    "for x in range(20,1,-2):\n",
    "  print(x)"
   ]
  },
  {
   "cell_type": "markdown",
   "metadata": {},
   "source": [
    "Break"
   ]
  },
  {
   "cell_type": "code",
   "execution_count": null,
   "metadata": {},
   "outputs": [],
   "source": [
    "for i in range(7,16):\n",
    "  if i >= 12:\n",
    "    print(\"break\")\n",
    "    break\n",
    "  else:\n",
    "    print(i)"
   ]
  },
  {
   "cell_type": "code",
   "execution_count": null,
   "metadata": {},
   "outputs": [],
   "source": [
    "for i in range(7,16):\n",
    "  if i > 12:\n",
    "    print(\"break\")\n",
    "    break\n",
    "    print(i)"
   ]
  },
  {
   "cell_type": "markdown",
   "metadata": {},
   "source": [
    "Continue"
   ]
  },
  {
   "cell_type": "code",
   "execution_count": null,
   "metadata": {},
   "outputs": [],
   "source": [
    "for i in range(3, 10, 2):\n",
    "  if i == 7:\n",
    "    print(\"Continue\")\n",
    "    continue\n",
    "    print(i)"
   ]
  },
  {
   "cell_type": "markdown",
   "metadata": {},
   "source": [
    "While Döngüsü\n",
    "\n",
    "koşul doğru olduğu sürece işlemler tekrarlanmasını sağlar."
   ]
  },
  {
   "cell_type": "code",
   "execution_count": null,
   "metadata": {},
   "outputs": [],
   "source": [
    "count = 1\n",
    "while count < 6:\n",
    "  print(count)\n",
    "  count += 1"
   ]
  },
  {
   "cell_type": "code",
   "execution_count": null,
   "metadata": {},
   "outputs": [],
   "source": [
    "number = int(input(\"10 ile 20 arasında bir sayı giriniz. \"))\n",
    "\n",
    "while number > 20 or number < 10:\n",
    "  print(\"İstenen değer aralığında bir değer girmediniz.\")\n",
    "  number = int(input(\"lütfen 10 ile 20 arasında bir değer giriniz: \"))\n",
    "\n",
    "else: print(\"Doğru aralıkta girilen değerimi1: \",number) "
   ]
  },
  {
   "cell_type": "code",
   "execution_count": null,
   "metadata": {},
   "outputs": [],
   "source": [
    "count = 1\n",
    "while count < 6:\n",
    "  print(\"Hellooo\")\n",
    "  count +=1"
   ]
  },
  {
   "cell_type": "markdown",
   "metadata": {},
   "source": [
    "**İç içe kullanılan döngüler**"
   ]
  },
  {
   "cell_type": "code",
   "execution_count": null,
   "metadata": {},
   "outputs": [],
   "source": [
    "rows = 5\n",
    "for i in range(1, rows + 1):\n",
    "  for j in range(1, i+1):\n",
    "    print(\"*\", end=\" \")\n",
    "  print()"
   ]
  },
  {
   "cell_type": "code",
   "execution_count": null,
   "metadata": {},
   "outputs": [],
   "source": [
    "for item in range(5):\n",
    "  print(str(item), end=\" \") #yan yana yazmayı sağlar"
   ]
  }
 ],
 "metadata": {
  "interpreter": {
   "hash": "ad2bdc8ecc057115af97d19610ffacc2b4e99fae6737bb82f5d7fb13d2f2c186"
  },
  "kernelspec": {
   "display_name": "Python 3.9.12 ('base')",
   "language": "python",
   "name": "python3"
  },
  "language_info": {
   "codemirror_mode": {
    "name": "ipython",
    "version": 3
   },
   "file_extension": ".py",
   "mimetype": "text/x-python",
   "name": "python",
   "nbconvert_exporter": "python",
   "pygments_lexer": "ipython3",
   "version": "3.9.12"
  },
  "orig_nbformat": 4
 },
 "nbformat": 4,
 "nbformat_minor": 2
}
