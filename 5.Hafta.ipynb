{
 "cells": [
  {
   "cell_type": "markdown",
   "metadata": {},
   "source": [
    "Set\n",
    "\n",
    "* index ile erişilemezler, unordered yani sıralı değillerdir.\n",
    "* Değiştirilemezler (immutable). Tupledan farkı burada sete yeni eleman ekleme çıkarma işlemlerini yapabiliyoruz. Ama setin içindeki bir elemanı değiştiremiyoruz.\n",
    "* {} parantez içerisinde tanımlanırlar. Elemanlar virgüller ile ayrılır.\n",
    "* Farklı tipte veriler içerebilir.\n",
    "* Duplicate veri taşıyamazlar. Aynı değere sahip iki eleman bulunamaz."
   ]
  },
  {
   "cell_type": "code",
   "execution_count": 2,
   "metadata": {},
   "outputs": [],
   "source": [
    "int_set = {1, 2, 3, 4}\n",
    "string_set = {\"İdil\", \"Buket\", \"Yağmur\"}\n",
    "mix_set = {\"Sisterslab\", 2022, True, 3.14}"
   ]
  },
  {
   "cell_type": "code",
   "execution_count": 10,
   "metadata": {},
   "outputs": [
    {
     "name": "stdout",
     "output_type": "stream",
     "text": [
      "{True, 'Sisterslab', 3.14, 2022}\n"
     ]
    }
   ],
   "source": [
    "\n",
    "print(mix_set)"
   ]
  },
  {
   "cell_type": "code",
   "execution_count": 3,
   "metadata": {},
   "outputs": [
    {
     "name": "stdout",
     "output_type": "stream",
     "text": [
      "<class 'set'>\n"
     ]
    }
   ],
   "source": [
    "print(type(mix_set))"
   ]
  },
  {
   "cell_type": "code",
   "execution_count": 4,
   "metadata": {},
   "outputs": [
    {
     "name": "stdout",
     "output_type": "stream",
     "text": [
      "{1, 2, 3, 4, 5}\n"
     ]
    }
   ],
   "source": [
    "my_set = {1, 3, 4, 2, 1, 3, 4, 2, 5} #duplicate veriler kaldırılır\n",
    "print(my_set)"
   ]
  },
  {
   "cell_type": "code",
   "execution_count": 5,
   "metadata": {},
   "outputs": [
    {
     "name": "stdout",
     "output_type": "stream",
     "text": [
      "[1, 3, 4, 2, 1, 3, 4, 2, 5, 5, 4, 3]\n",
      "{1, 2, 3, 4, 5}\n",
      "[1, 2, 3, 4, 5]\n"
     ]
    }
   ],
   "source": [
    "my_list = [1, 3, 4, 2, 1, 3, 4, 2, 5, 5, 4, 3]\n",
    "print(my_list)\n",
    "\n",
    "#Set ile duplicate verilerin silinmesi\n",
    "my_set = set(my_list)\n",
    "print(my_set)\n",
    "\n",
    "my_list = list(my_set)\n",
    "print(my_list)"
   ]
  },
  {
   "cell_type": "code",
   "execution_count": 6,
   "metadata": {},
   "outputs": [
    {
     "name": "stdout",
     "output_type": "stream",
     "text": [
      "[1, 6, 3, 4, 2, 1, 3, 4, 2, 5, 5, 4, 3]\n",
      "[1, 6, 3, 4, 2, 5]\n"
     ]
    }
   ],
   "source": [
    "my_list = [1, 6, 3, 4, 2, 1, 3, 4, 2, 5, 5, 4, 3]\n",
    "print(my_list)\n",
    "#döngü ile kontrol (duplicate verilerin silinmesi)\n",
    "unique_list = []\n",
    "for i in my_list:\n",
    "    if i not in unique_list:\n",
    "        unique_list.append(i)\n",
    "\n",
    "print(unique_list)"
   ]
  },
  {
   "cell_type": "code",
   "execution_count": 7,
   "metadata": {},
   "outputs": [
    {
     "ename": "TypeError",
     "evalue": "unhashable type: 'list'",
     "output_type": "error",
     "traceback": [
      "\u001b[1;31m---------------------------------------------------------------------------\u001b[0m",
      "\u001b[1;31mTypeError\u001b[0m                                 Traceback (most recent call last)",
      "\u001b[1;32md:\\SistersLab\\python-projects\\5.Hafta.ipynb Cell 8'\u001b[0m in \u001b[0;36m<cell line: 2>\u001b[1;34m()\u001b[0m\n\u001b[0;32m      <a href='vscode-notebook-cell:/d%3A/SistersLab/python-projects/5.Hafta.ipynb#ch0000008?line=0'>1</a>\u001b[0m \u001b[39m#Set içerisinde liste \u001b[39;00m\n\u001b[1;32m----> <a href='vscode-notebook-cell:/d%3A/SistersLab/python-projects/5.Hafta.ipynb#ch0000008?line=1'>2</a>\u001b[0m my_set \u001b[39m=\u001b[39m {\u001b[39m\"\u001b[39m\u001b[39mNurcan\u001b[39m\u001b[39m\"\u001b[39m, \u001b[39m\"\u001b[39m\u001b[39mNurdan\u001b[39m\u001b[39m\"\u001b[39m, \u001b[39m\"\u001b[39m\u001b[39mCeyda\u001b[39m\u001b[39m\"\u001b[39m, [\u001b[39m\"\u001b[39m\u001b[39mİdil\u001b[39m\u001b[39m\"\u001b[39m, \u001b[39m\"\u001b[39m\u001b[39mNurefşan\u001b[39m\u001b[39m\"\u001b[39m]}\n\u001b[0;32m      <a href='vscode-notebook-cell:/d%3A/SistersLab/python-projects/5.Hafta.ipynb#ch0000008?line=3'>4</a>\u001b[0m \u001b[39mprint\u001b[39m(my_set)\n",
      "\u001b[1;31mTypeError\u001b[0m: unhashable type: 'list'"
     ]
    }
   ],
   "source": [
    "#Set içerisinde liste \n",
    "my_set = {\"Nurcan\", \"Nurdan\", \"Ceyda\", [\"İdil\", \"Nurefşan\"]}\n",
    "\n",
    "print(my_set)"
   ]
  },
  {
   "cell_type": "code",
   "execution_count": 8,
   "metadata": {},
   "outputs": [
    {
     "name": "stdout",
     "output_type": "stream",
     "text": [
      "{'Ceyda', 'Nurcan', ('İdil', 'Nurefşan'), 'Nurdan'}\n"
     ]
    }
   ],
   "source": [
    "#set içerisinde tuple\n",
    "my_set = {\"Nurcan\", \"Nurdan\", \"Ceyda\", (\"İdil\", \"Nurefşan\")}\n",
    "\n",
    "print(my_set)"
   ]
  },
  {
   "cell_type": "code",
   "execution_count": 9,
   "metadata": {},
   "outputs": [
    {
     "ename": "TypeError",
     "evalue": "unhashable type: 'list'",
     "output_type": "error",
     "traceback": [
      "\u001b[1;31m---------------------------------------------------------------------------\u001b[0m",
      "\u001b[1;31mTypeError\u001b[0m                                 Traceback (most recent call last)",
      "\u001b[1;32md:\\SistersLab\\python-projects\\5.Hafta.ipynb Cell 10'\u001b[0m in \u001b[0;36m<cell line: 2>\u001b[1;34m()\u001b[0m\n\u001b[0;32m      <a href='vscode-notebook-cell:/d%3A/SistersLab/python-projects/5.Hafta.ipynb#ch0000010?line=0'>1</a>\u001b[0m \u001b[39m#set içerisinde tuple, tuple içerisinde list\u001b[39;00m\n\u001b[1;32m----> <a href='vscode-notebook-cell:/d%3A/SistersLab/python-projects/5.Hafta.ipynb#ch0000010?line=1'>2</a>\u001b[0m my_set \u001b[39m=\u001b[39m {\u001b[39m\"\u001b[39m\u001b[39mNurcan\u001b[39m\u001b[39m\"\u001b[39m, \u001b[39m\"\u001b[39m\u001b[39mNurdan\u001b[39m\u001b[39m\"\u001b[39m, \u001b[39m\"\u001b[39m\u001b[39mCeyda\u001b[39m\u001b[39m\"\u001b[39m, (\u001b[39m\"\u001b[39m\u001b[39mİdil\u001b[39m\u001b[39m\"\u001b[39m, \u001b[39m\"\u001b[39m\u001b[39mNurefşan\u001b[39m\u001b[39m\"\u001b[39m, [\u001b[39m\"\u001b[39m\u001b[39mAysel\u001b[39m\u001b[39m\"\u001b[39m, \u001b[39m\"\u001b[39m\u001b[39mMerve\u001b[39m\u001b[39m\"\u001b[39m])}\n\u001b[0;32m      <a href='vscode-notebook-cell:/d%3A/SistersLab/python-projects/5.Hafta.ipynb#ch0000010?line=3'>4</a>\u001b[0m \u001b[39mprint\u001b[39m(my_set)\n",
      "\u001b[1;31mTypeError\u001b[0m: unhashable type: 'list'"
     ]
    }
   ],
   "source": [
    "#set içerisinde tuple, tuple içerisinde list\n",
    "my_set = {\"Nurcan\", \"Nurdan\", \"Ceyda\", (\"İdil\", \"Nurefşan\", [\"Aysel\", \"Merve\"])}\n",
    "\n",
    "print(my_set)"
   ]
  },
  {
   "cell_type": "markdown",
   "metadata": {},
   "source": [
    "Boş bir set oluşturma\n",
    "\n",
    "* my_list -> []\n",
    "* my_tuple-> ()"
   ]
  },
  {
   "cell_type": "code",
   "execution_count": 10,
   "metadata": {},
   "outputs": [
    {
     "name": "stdout",
     "output_type": "stream",
     "text": [
      "<class 'dict'>\n"
     ]
    }
   ],
   "source": [
    "my_set = {} #boş dictionary oluşturur\n",
    "print(type(my_set))"
   ]
  },
  {
   "cell_type": "code",
   "execution_count": 11,
   "metadata": {},
   "outputs": [
    {
     "name": "stdout",
     "output_type": "stream",
     "text": [
      "<class 'set'>\n"
     ]
    }
   ],
   "source": [
    "empty_set = set() #boş bir set oluşturur\n",
    "print(type(empty_set))"
   ]
  },
  {
   "cell_type": "code",
   "execution_count": 12,
   "metadata": {},
   "outputs": [
    {
     "name": "stdout",
     "output_type": "stream",
     "text": [
      "Person of Interest\n",
      "The Bing Bang Theory\n",
      "The Office\n"
     ]
    }
   ],
   "source": [
    "movies = {\"The Office\", \"The Bing Bang Theory\", \"Person of Interest\"}\n",
    "\n",
    "for item in movies:\n",
    "    print(item)"
   ]
  },
  {
   "cell_type": "markdown",
   "metadata": {},
   "source": [
    "Set içerisinde eleman kontrolü"
   ]
  },
  {
   "cell_type": "code",
   "execution_count": 13,
   "metadata": {},
   "outputs": [
    {
     "name": "stdout",
     "output_type": "stream",
     "text": [
      "Diziler içerisinde mevcut değildir\n"
     ]
    }
   ],
   "source": [
    "movies = {\"The Office\", \"The Bing Bang Theory\", \"Person of Interest\"}\n",
    "\n",
    "if \"Harry Potter\" in movies:\n",
    "    print(\"Diziler içinde mevcut\")\n",
    "else:\n",
    "    print(\"Diziler içerisinde mevcut değildir\")"
   ]
  },
  {
   "cell_type": "markdown",
   "metadata": {},
   "source": [
    "Bir setin uzunluğu"
   ]
  },
  {
   "cell_type": "code",
   "execution_count": 14,
   "metadata": {},
   "outputs": [
    {
     "name": "stdout",
     "output_type": "stream",
     "text": [
      "3\n"
     ]
    }
   ],
   "source": [
    "\n",
    "print(len(movies))"
   ]
  },
  {
   "cell_type": "markdown",
   "metadata": {},
   "source": [
    "Bir Set'e eleman ekleme\n",
    "\n",
    "* add() sete yeni bir eleman eklenir\n",
    "* update() metodu ile de birden fazla ekleme işlemi yapılır"
   ]
  },
  {
   "cell_type": "code",
   "execution_count": 15,
   "metadata": {},
   "outputs": [
    {
     "name": "stdout",
     "output_type": "stream",
     "text": [
      "{'Serenad', 'İnce Memed', 'Şeker Portakalı', 'Harry Potter', 'Küçük Prens'}\n"
     ]
    }
   ],
   "source": [
    "books = {\"Serenad\", \"Küçük Prens\", \"Şeker Portakalı\", \"Harry Potter\"}\n",
    "\n",
    "books.add(\"İnce Memed\")\n",
    "print(books)"
   ]
  },
  {
   "cell_type": "code",
   "execution_count": 16,
   "metadata": {},
   "outputs": [
    {
     "name": "stdout",
     "output_type": "stream",
     "text": [
      "{'Serenad', 'Demir Ökçe', 'İnce Memed', '1984', 'Şeker Portakalı', 'Harry Potter', 'Küçük Prens'}\n"
     ]
    }
   ],
   "source": [
    "books.update([\"Demir Ökçe\", \"1984\"])\n",
    "print(books)"
   ]
  },
  {
   "cell_type": "markdown",
   "metadata": {},
   "source": [
    "Bir set içerisinden eleman silme\n",
    "\n",
    "* remove()\n",
    "* discard()\n",
    "* pop()\n",
    "* clear()\n",
    "* del set"
   ]
  },
  {
   "cell_type": "code",
   "execution_count": 17,
   "metadata": {},
   "outputs": [
    {
     "name": "stdout",
     "output_type": "stream",
     "text": [
      "{0, 1, 3, 4, 5, 6, 7, 8, 9, 10}\n"
     ]
    }
   ],
   "source": [
    "#remove()\n",
    "my_set = {1, 2, 3, 4, 5, 6, 7, 8, 9, 0, 10}\n",
    "my_set.remove(2)\n",
    "\n",
    "print(my_set)"
   ]
  },
  {
   "cell_type": "code",
   "execution_count": 18,
   "metadata": {},
   "outputs": [
    {
     "ename": "KeyError",
     "evalue": "11",
     "output_type": "error",
     "traceback": [
      "\u001b[1;31m---------------------------------------------------------------------------\u001b[0m",
      "\u001b[1;31mKeyError\u001b[0m                                  Traceback (most recent call last)",
      "\u001b[1;32md:\\SistersLab\\python-projects\\5.Hafta.ipynb Cell 24'\u001b[0m in \u001b[0;36m<cell line: 1>\u001b[1;34m()\u001b[0m\n\u001b[1;32m----> <a href='vscode-notebook-cell:/d%3A/SistersLab/python-projects/5.Hafta.ipynb#ch0000024?line=0'>1</a>\u001b[0m my_set\u001b[39m.\u001b[39;49mremove(\u001b[39m11\u001b[39;49m)\n",
      "\u001b[1;31mKeyError\u001b[0m: 11"
     ]
    }
   ],
   "source": [
    "my_set.remove(11)"
   ]
  },
  {
   "cell_type": "code",
   "execution_count": 19,
   "metadata": {},
   "outputs": [
    {
     "name": "stdout",
     "output_type": "stream",
     "text": [
      "{0, 1, 4, 5, 6, 7, 8, 9, 10}\n"
     ]
    }
   ],
   "source": [
    "#Discard()\n",
    "my_set.discard(3)\n",
    "print(my_set)"
   ]
  },
  {
   "cell_type": "code",
   "execution_count": 20,
   "metadata": {},
   "outputs": [
    {
     "name": "stdout",
     "output_type": "stream",
     "text": [
      "{0, 1, 4, 5, 6, 7, 8, 9, 10}\n"
     ]
    }
   ],
   "source": [
    "my_set.discard(11) #removedan farkı olmayan elemanı silmeye çalıştığımız hata vermez\n",
    "\n",
    "print(my_set)"
   ]
  },
  {
   "cell_type": "code",
   "execution_count": 21,
   "metadata": {},
   "outputs": [
    {
     "name": "stdout",
     "output_type": "stream",
     "text": [
      "{1, 2, 3, 4, 5, 6, 7, 8, 9, 10}\n"
     ]
    }
   ],
   "source": [
    "# pop()\n",
    "my_set = {1, 2, 3, 4, 5, 6, 7, 8, 9, 0, 10}\n",
    "\n",
    "my_set.pop() #rastgele bir elemanı siler\n",
    "print(my_set)"
   ]
  },
  {
   "cell_type": "code",
   "execution_count": 22,
   "metadata": {},
   "outputs": [
    {
     "name": "stdout",
     "output_type": "stream",
     "text": [
      "set()\n"
     ]
    }
   ],
   "source": [
    "#clear() -> Set içerisindeki tüm elemanları silip boş bir çıktı vermek için kullanılır\n",
    "\n",
    "my_set.clear()\n",
    "print(my_set)"
   ]
  },
  {
   "cell_type": "code",
   "execution_count": 23,
   "metadata": {},
   "outputs": [
    {
     "ename": "NameError",
     "evalue": "name 'my_set' is not defined",
     "output_type": "error",
     "traceback": [
      "\u001b[1;31m---------------------------------------------------------------------------\u001b[0m",
      "\u001b[1;31mNameError\u001b[0m                                 Traceback (most recent call last)",
      "\u001b[1;32md:\\SistersLab\\python-projects\\5.Hafta.ipynb Cell 29'\u001b[0m in \u001b[0;36m<cell line: 3>\u001b[1;34m()\u001b[0m\n\u001b[0;32m      <a href='vscode-notebook-cell:/d%3A/SistersLab/python-projects/5.Hafta.ipynb#ch0000030?line=0'>1</a>\u001b[0m \u001b[39m#del \u001b[39;00m\n\u001b[0;32m      <a href='vscode-notebook-cell:/d%3A/SistersLab/python-projects/5.Hafta.ipynb#ch0000030?line=1'>2</a>\u001b[0m \u001b[39mdel\u001b[39;00m my_set\n\u001b[1;32m----> <a href='vscode-notebook-cell:/d%3A/SistersLab/python-projects/5.Hafta.ipynb#ch0000030?line=2'>3</a>\u001b[0m \u001b[39mprint\u001b[39m(my_set)\n",
      "\u001b[1;31mNameError\u001b[0m: name 'my_set' is not defined"
     ]
    }
   ],
   "source": [
    "#del \n",
    "del my_set\n",
    "print(my_set)"
   ]
  },
  {
   "cell_type": "markdown",
   "metadata": {},
   "source": [
    "Set üzerinde kullanabileceğimiz operatörler\n",
    "\n",
    "* union() -> |\n",
    "* intersection() -> &\n",
    "* difference() -> -\n",
    "* symmetric_difference() -> ^\n",
    "\n",
    "\n",
    "Union() iki setin birleştirilme işlemi için kullanılır. Her iki sette yer alan elamanı tek olacak şekilde ekler"
   ]
  },
  {
   "cell_type": "code",
   "execution_count": 24,
   "metadata": {},
   "outputs": [
    {
     "name": "stdout",
     "output_type": "stream",
     "text": [
      "{'Bircan', 'Emre', 'Asena', 'Bilal', 'Burak', 'Başak'}\n"
     ]
    }
   ],
   "source": [
    "my_set1 = {\"Asena\", \"Başak\", \"Bircan\", \"Emre\"}\n",
    "my_set2 = {\"Emre\", \"Burak\", \"Bilal\"}\n",
    "\n",
    "my_set3 = my_set1 | my_set2\n",
    "print(my_set3)"
   ]
  },
  {
   "cell_type": "code",
   "execution_count": 25,
   "metadata": {},
   "outputs": [
    {
     "name": "stdout",
     "output_type": "stream",
     "text": [
      "{'Bircan', 'Emre', 'Asena', 'Bilal', 'Burak', 'Başak'}\n"
     ]
    }
   ],
   "source": [
    "my_set4 = my_set1.union(my_set2)\n",
    "print(my_set4)"
   ]
  },
  {
   "cell_type": "markdown",
   "metadata": {},
   "source": [
    "intersection (Kesişim) Her iki sette yer alan ortak elemanları gösterir"
   ]
  },
  {
   "cell_type": "code",
   "execution_count": 26,
   "metadata": {},
   "outputs": [
    {
     "name": "stdout",
     "output_type": "stream",
     "text": [
      "{4, 5}\n"
     ]
    }
   ],
   "source": [
    "my_set1 = {1,2,3,4,5}\n",
    "my_set2 = {4,5,6,7,8}\n",
    "\n",
    "new_set = my_set1 & my_set2\n",
    "print(new_set)"
   ]
  },
  {
   "cell_type": "code",
   "execution_count": 27,
   "metadata": {},
   "outputs": [
    {
     "name": "stdout",
     "output_type": "stream",
     "text": [
      "{4, 5}\n"
     ]
    }
   ],
   "source": [
    "new_set = my_set1.intersection(my_set2)\n",
    "print(new_set)"
   ]
  },
  {
   "cell_type": "code",
   "execution_count": 28,
   "metadata": {},
   "outputs": [
    {
     "name": "stdout",
     "output_type": "stream",
     "text": [
      "{1, 2, 3, 4, 5}\n",
      "{4, 5}\n"
     ]
    }
   ],
   "source": [
    "print(my_set1)\n",
    "my_set1.intersection_update(my_set2)\n",
    "print(my_set1)"
   ]
  },
  {
   "cell_type": "code",
   "execution_count": 29,
   "metadata": {},
   "outputs": [
    {
     "name": "stdout",
     "output_type": "stream",
     "text": [
      "{1, 2, 3}\n",
      "{1, 2, 3}\n"
     ]
    }
   ],
   "source": [
    "my_set1 = {1,2,3,4,5}\n",
    "my_set2 = {4,5,6,7,8}\n",
    "\n",
    "new_set = my_set1 - my_set2\n",
    "print(new_set)\n",
    "\n",
    "print(my_set1.difference(my_set2))"
   ]
  },
  {
   "cell_type": "code",
   "execution_count": 30,
   "metadata": {},
   "outputs": [
    {
     "name": "stdout",
     "output_type": "stream",
     "text": [
      "{4, 5, 6, 7, 8}\n",
      "{6, 7, 8}\n"
     ]
    }
   ],
   "source": [
    "my_set1 = {1,2,3,4,5}\n",
    "my_set2 = {4,5,6,7,8}\n",
    "\n",
    "print(my_set2)\n",
    "my_set2.difference_update(my_set1)\n",
    "print(my_set2)"
   ]
  },
  {
   "cell_type": "markdown",
   "metadata": {},
   "source": [
    "symmetric_difference -> Ortak eleman dışındaki elemanları alır"
   ]
  },
  {
   "cell_type": "code",
   "execution_count": 31,
   "metadata": {},
   "outputs": [
    {
     "name": "stdout",
     "output_type": "stream",
     "text": [
      "{1, 2, 3, 6, 7, 8}\n",
      "{1, 2, 3, 6, 7, 8}\n"
     ]
    }
   ],
   "source": [
    "my_set1 = {1,2,3,4,5}\n",
    "my_set2 = {4,5,6,7,8}\n",
    "\n",
    "unique_set = my_set1 ^ my_set2\n",
    "print(unique_set)\n",
    "\n",
    "unique_set2 = my_set1.symmetric_difference(my_set2)\n",
    "print(unique_set2)"
   ]
  },
  {
   "cell_type": "markdown",
   "metadata": {},
   "source": [
    "symmetric_difference_update()"
   ]
  },
  {
   "cell_type": "code",
   "execution_count": 32,
   "metadata": {},
   "outputs": [
    {
     "name": "stdout",
     "output_type": "stream",
     "text": [
      "{4, 5, 6, 7, 8}\n",
      "{1, 2, 3, 6, 7, 8}\n"
     ]
    }
   ],
   "source": [
    "print(my_set2)\n",
    "my_set2.symmetric_difference_update(my_set1)\n",
    "print(my_set2)"
   ]
  },
  {
   "cell_type": "markdown",
   "metadata": {},
   "source": [
    "Kopyalama İşlemleri\n",
    "\n",
    "* copy()\n",
    "* set()\n",
    "* = operatörü"
   ]
  },
  {
   "cell_type": "code",
   "execution_count": 33,
   "metadata": {},
   "outputs": [
    {
     "name": "stdout",
     "output_type": "stream",
     "text": [
      "{True, 2022, 'Macbook', 'Iphone', 19}\n",
      "{True, 2022, 'Macbook', 'Iphone', 19}\n"
     ]
    }
   ],
   "source": [
    "my_set = {2022, True, \"Iphone\", \"Macbook\"}\n",
    "\n",
    "my_set2 = my_set\n",
    "my_set.add(19)\n",
    "\n",
    "print(my_set)\n",
    "print(my_set2)"
   ]
  },
  {
   "cell_type": "code",
   "execution_count": 34,
   "metadata": {},
   "outputs": [
    {
     "name": "stdout",
     "output_type": "stream",
     "text": [
      "{True, 2022, 'Macbook', 'Iphone', 19}\n",
      "{True, 'Macbook', 2022, 'Iphone'}\n"
     ]
    }
   ],
   "source": [
    "my_set = {2022, True, \"Iphone\", \"Macbook\"}\n",
    "\n",
    "my_set2 = my_set.copy()\n",
    "my_set.add(19)\n",
    "\n",
    "print(my_set)\n",
    "print(my_set2)"
   ]
  },
  {
   "cell_type": "code",
   "execution_count": 35,
   "metadata": {},
   "outputs": [
    {
     "name": "stdout",
     "output_type": "stream",
     "text": [
      "{True, 2022, 'Macbook', 'Iphone', 19}\n",
      "{True, 'Macbook', 2022, 'Iphone'}\n"
     ]
    }
   ],
   "source": [
    "my_set = {2022, True, \"Iphone\", \"Macbook\"}\n",
    "\n",
    "my_set2 = set(my_set)\n",
    "my_set.add(19)\n",
    "\n",
    "print(my_set)\n",
    "print(my_set2)"
   ]
  },
  {
   "cell_type": "markdown",
   "metadata": {},
   "source": [
    "* issubset() -> alt küme kontrolü\n",
    "* issuperset() -> üst kümse kontrolü"
   ]
  },
  {
   "cell_type": "code",
   "execution_count": 36,
   "metadata": {},
   "outputs": [
    {
     "name": "stdout",
     "output_type": "stream",
     "text": [
      "True\n",
      "True\n",
      "False\n",
      "False\n"
     ]
    }
   ],
   "source": [
    "my_set = {3, \"Python\", 4, 7, True}\n",
    "sub_set = {\"Python\"}\n",
    "\n",
    "print(sub_set.issubset(my_set)) #sub_set my_set'in alt kümesi mi\n",
    "print(my_set.issuperset(sub_set))\n",
    "\n",
    "print(sub_set.issuperset(my_set))\n",
    "print(my_set.issubset(sub_set))"
   ]
  },
  {
   "cell_type": "markdown",
   "metadata": {},
   "source": [
    "Frozenset -> Değişmez bir set oluşturmak için kullanılır"
   ]
  },
  {
   "cell_type": "code",
   "execution_count": 37,
   "metadata": {},
   "outputs": [
    {
     "ename": "AttributeError",
     "evalue": "'frozenset' object has no attribute 'add'",
     "output_type": "error",
     "traceback": [
      "\u001b[1;31m---------------------------------------------------------------------------\u001b[0m",
      "\u001b[1;31mAttributeError\u001b[0m                            Traceback (most recent call last)",
      "\u001b[1;32md:\\SistersLab\\python-projects\\5.Hafta.ipynb Cell 50'\u001b[0m in \u001b[0;36m<cell line: 4>\u001b[1;34m()\u001b[0m\n\u001b[0;32m      <a href='vscode-notebook-cell:/d%3A/SistersLab/python-projects/5.Hafta.ipynb#ch0000051?line=0'>1</a>\u001b[0m name_set \u001b[39m=\u001b[39m {\u001b[39m\"\u001b[39m\u001b[39mMerve\u001b[39m\u001b[39m\"\u001b[39m, \u001b[39m\"\u001b[39m\u001b[39mHilal\u001b[39m\u001b[39m\"\u001b[39m, \u001b[39m\"\u001b[39m\u001b[39mNihal\u001b[39m\u001b[39m\"\u001b[39m}\n\u001b[0;32m      <a href='vscode-notebook-cell:/d%3A/SistersLab/python-projects/5.Hafta.ipynb#ch0000051?line=1'>2</a>\u001b[0m frozen_set \u001b[39m=\u001b[39m \u001b[39mfrozenset\u001b[39m(name_set)\n\u001b[1;32m----> <a href='vscode-notebook-cell:/d%3A/SistersLab/python-projects/5.Hafta.ipynb#ch0000051?line=3'>4</a>\u001b[0m frozen_set\u001b[39m.\u001b[39;49madd(\u001b[39m\"\u001b[39m\u001b[39mAysel\u001b[39m\u001b[39m\"\u001b[39m)\n",
      "\u001b[1;31mAttributeError\u001b[0m: 'frozenset' object has no attribute 'add'"
     ]
    }
   ],
   "source": [
    "name_set = {\"Merve\", \"Hilal\", \"Nihal\"}\n",
    "frozen_set = frozenset(name_set)\n",
    "\n",
    "frozen_set.add(\"Aysel\")"
   ]
  },
  {
   "cell_type": "code",
   "execution_count": 38,
   "metadata": {},
   "outputs": [
    {
     "ename": "AttributeError",
     "evalue": "'frozenset' object has no attribute 'remove'",
     "output_type": "error",
     "traceback": [
      "\u001b[1;31m---------------------------------------------------------------------------\u001b[0m",
      "\u001b[1;31mAttributeError\u001b[0m                            Traceback (most recent call last)",
      "\u001b[1;32md:\\SistersLab\\python-projects\\5.Hafta.ipynb Cell 51'\u001b[0m in \u001b[0;36m<cell line: 1>\u001b[1;34m()\u001b[0m\n\u001b[1;32m----> <a href='vscode-notebook-cell:/d%3A/SistersLab/python-projects/5.Hafta.ipynb#ch0000052?line=0'>1</a>\u001b[0m frozen_set\u001b[39m.\u001b[39;49mremove(\u001b[39m\"\u001b[39m\u001b[39mHilal\u001b[39m\u001b[39m\"\u001b[39m)\n",
      "\u001b[1;31mAttributeError\u001b[0m: 'frozenset' object has no attribute 'remove'"
     ]
    }
   ],
   "source": [
    "frozen_set.remove(\"Hilal\")"
   ]
  },
  {
   "cell_type": "markdown",
   "metadata": {},
   "source": [
    "new_set = {expression(i) for i in my_set if i in condition}"
   ]
  },
  {
   "cell_type": "code",
   "execution_count": 39,
   "metadata": {},
   "outputs": [
    {
     "name": "stdout",
     "output_type": "stream",
     "text": [
      "{2, 4, 6, 8, 10, 12, 14, 16, 18}\n"
     ]
    }
   ],
   "source": [
    "#1 den 10 kadar olan sayıların iki katını ekrana bas\n",
    "new_set = {i*2 for i in range(1, 10)}\n",
    "\n",
    "print(new_set)"
   ]
  },
  {
   "cell_type": "code",
   "execution_count": 40,
   "metadata": {},
   "outputs": [
    {
     "name": "stdout",
     "output_type": "stream",
     "text": [
      "{8, 16, 4, 12}\n"
     ]
    }
   ],
   "source": [
    "\n",
    "#1den 10 a kadar sadece çift sayıların iki katını alıp ekrana bas\n",
    "\n",
    "new_set = {i*2 for i in range(1, 10) if i % 2 == 0}\n",
    "print(new_set)"
   ]
  },
  {
   "cell_type": "code",
   "execution_count": 41,
   "metadata": {},
   "outputs": [
    {
     "name": "stdout",
     "output_type": "stream",
     "text": [
      "{1, 2, 3, 4, 5, 6, 7}\n"
     ]
    }
   ],
   "source": [
    "#bir listenin tüm elemanlarını bir sete ekleme işlemi yapalım\n",
    "\n",
    "my_set = {1,2,3,4,5}\n",
    "my_list = [4,5,6,7]\n",
    "\n",
    "my_set.update(my_list)\n",
    "print(my_set)"
   ]
  },
  {
   "cell_type": "code",
   "execution_count": 42,
   "metadata": {},
   "outputs": [
    {
     "name": "stdout",
     "output_type": "stream",
     "text": [
      "{1, 2, 3, 6, 7, 8}\n"
     ]
    }
   ],
   "source": [
    "#iki sette yer alan benzersiz elemanlardan bir set oluşturalım\n",
    "\n",
    "my_set = {1,2,3,4,5}\n",
    "my_set2 = {4,5,6,7,8}\n",
    "\n",
    "print(my_set.symmetric_difference(my_set2))"
   ]
  },
  {
   "cell_type": "markdown",
   "metadata": {},
   "source": [
    "Dictionary key - value\n",
    "\n",
    "* Unordered yani sıralı değillerdir. Index ile erişilemiyor. Değerlere key üzerinden erişiriz.\n",
    "* Dict. değiştirilebilir yani mutable. Ekleme çıkarma işlemine izin verir. Key'in değerini değiştirebiliriz.\n",
    "* {} parantezler ile tanımlanır. key value çifti virgüllerle ayrılır.\n",
    "* Farklı veri tipleri içerebilir.\n",
    "* Key değerleri unique, value duplicate olabilir."
   ]
  },
  {
   "cell_type": "markdown",
   "metadata": {},
   "source": [
    "Dict. Oluşturma Yöntemleri\n",
    "\n",
    "* {} -> key value çifti arasında : kullanırız. Ve her key value çifti , ile ayrılır.\n",
    "* dict()"
   ]
  },
  {
   "cell_type": "code",
   "execution_count": 11,
   "metadata": {},
   "outputs": [
    {
     "name": "stdout",
     "output_type": "stream",
     "text": [
      "{'name': 'Merve', 'company': 'SistersLab', 'job': 'Co-Founder'}\n"
     ]
    }
   ],
   "source": [
    "my_dict = {\"name\":\"Merve\", \"company\":\"SistersLab\", \"job\":\"Co-Founder\"}\n",
    "\n",
    "print(my_dict)"
   ]
  },
  {
   "cell_type": "code",
   "execution_count": 12,
   "metadata": {},
   "outputs": [
    {
     "name": "stdout",
     "output_type": "stream",
     "text": [
      "{'name': 'Merve', 'company': 'SistersLab', 'job': 'Co-Founder', 'age': 23}\n"
     ]
    }
   ],
   "source": [
    "#value -> Hepsi aynı tür olmak zorunda değil\n",
    "my_dict = {\"name\":\"Merve\", \"company\":\"SistersLab\", \"job\":\"Co-Founder\", \"age\": 23}\n",
    "\n",
    "print(my_dict)"
   ]
  },
  {
   "cell_type": "code",
   "execution_count": 13,
   "metadata": {},
   "outputs": [
    {
     "name": "stdout",
     "output_type": "stream",
     "text": [
      "{'name': 'Merve', 'company': 'SistersLab', 'job': 'Co-Founder', 'age': 23, 3.14: 'pi'}\n"
     ]
    }
   ],
   "source": [
    "#Key değerleri aynı tipte olmak zorunda değil\n",
    "my_dict = {\"name\":\"Merve\", \"company\":\"SistersLab\", \"job\":\"Co-Founder\", \"age\": 23, 3.14:\"pi\"}\n",
    "\n",
    "print(my_dict)"
   ]
  },
  {
   "cell_type": "code",
   "execution_count": 14,
   "metadata": {},
   "outputs": [
    {
     "name": "stdout",
     "output_type": "stream",
     "text": [
      "{'name': 'Aysel', 'titles': ['AI&ML Engineer', 'Android Dev.']}\n"
     ]
    }
   ],
   "source": [
    "#value kısmında bir liste de tutabiliriz\n",
    "\n",
    "my_dict = {\"name\":\"Aysel\", \"titles\":[\"AI&ML Engineer\", \"Android Dev.\"]}\n",
    "print(my_dict)"
   ]
  },
  {
   "cell_type": "markdown",
   "metadata": {},
   "source": [
    "**dict{}**"
   ]
  },
  {
   "cell_type": "code",
   "execution_count": 15,
   "metadata": {},
   "outputs": [
    {
     "name": "stdout",
     "output_type": "stream",
     "text": [
      "{'name': 'Nurcan', 'age': 25}\n"
     ]
    }
   ],
   "source": [
    "my_dict = dict({\"name\":\"Nurcan\", \"age\":25})\n",
    "\n",
    "print(my_dict)"
   ]
  },
  {
   "cell_type": "markdown",
   "metadata": {},
   "source": [
    "**Empty dict**"
   ]
  },
  {
   "cell_type": "code",
   "execution_count": 16,
   "metadata": {},
   "outputs": [
    {
     "name": "stdout",
     "output_type": "stream",
     "text": [
      "{}\n",
      "<class 'dict'>\n"
     ]
    }
   ],
   "source": [
    "my_dict = {}\n",
    "print(my_dict)\n",
    "print(type(my_dict))"
   ]
  },
  {
   "cell_type": "markdown",
   "metadata": {},
   "source": [
    "**Sözlük elemanlarına erişim**\n",
    "\n",
    "* [key]\n",
    "* get(key)"
   ]
  },
  {
   "cell_type": "code",
   "execution_count": 17,
   "metadata": {},
   "outputs": [
    {
     "name": "stdout",
     "output_type": "stream",
     "text": [
      "The Office\n",
      "The Office\n"
     ]
    }
   ],
   "source": [
    "my_dict = {1990: \"The Office\", 1994:\"Friends\", 1996: \"The Big Bang Theory\"}\n",
    "\n",
    "print(my_dict[1990])\n",
    "print(my_dict.get(1990))"
   ]
  },
  {
   "cell_type": "code",
   "execution_count": 3,
   "metadata": {},
   "outputs": [
    {
     "name": "stdout",
     "output_type": "stream",
     "text": [
      "dict_keys([1990, 1994, 1996])\n",
      "<class 'dict_keys'>\n"
     ]
    }
   ],
   "source": [
    "#dict. içindeki key değerleri\n",
    "my_dict = {1990: \"The Office\", 1994:\"Friends\", 1996: \"The Big Bang Theory\"}\n",
    "\n",
    "print(my_dict.keys())\n",
    "print(type(my_dict.keys()))"
   ]
  },
  {
   "cell_type": "code",
   "execution_count": 4,
   "metadata": {},
   "outputs": [
    {
     "name": "stdout",
     "output_type": "stream",
     "text": [
      "dict_values(['The Office', 'Friends', 'The Big Bang Theory'])\n",
      "<class 'dict_values'>\n"
     ]
    }
   ],
   "source": [
    "#value değerlerine erişelim\n",
    "\n",
    "print(my_dict.values())\n",
    "print(type(my_dict.values()))"
   ]
  },
  {
   "cell_type": "code",
   "execution_count": 5,
   "metadata": {},
   "outputs": [
    {
     "name": "stdout",
     "output_type": "stream",
     "text": [
      "dict_items([(1990, 'The Office'), (1994, 'Friends'), (1996, 'The Big Bang Theory')])\n",
      "<class 'dict_items'>\n"
     ]
    }
   ],
   "source": [
    "#key-value çiftine erişelim\n",
    "\n",
    "print(my_dict.items())\n",
    "print(type(my_dict.items()))"
   ]
  },
  {
   "cell_type": "markdown",
   "metadata": {},
   "source": [
    "*Döngü ile Erişim*"
   ]
  },
  {
   "cell_type": "code",
   "execution_count": 6,
   "metadata": {},
   "outputs": [
    {
     "name": "stdout",
     "output_type": "stream",
     "text": [
      "1990\n",
      "1994\n",
      "1996\n"
     ]
    }
   ],
   "source": [
    "#key değerlerine erişim\n",
    "my_dict = {1990: \"The Office\", 1994:\"Friends\", 1996: [\"The Big Bang Theory\", \"Person of Interest\"]}\n",
    "\n",
    "for i in my_dict.keys():\n",
    "    print(i)"
   ]
  },
  {
   "cell_type": "code",
   "execution_count": 7,
   "metadata": {},
   "outputs": [
    {
     "name": "stdout",
     "output_type": "stream",
     "text": [
      "The Office\n",
      "Friends\n",
      "['The Big Bang Theory', 'Person of Interest']\n",
      "The Big Bang Theory\n",
      "Person of Interest\n"
     ]
    }
   ],
   "source": [
    "#value değerlerine erişim\n",
    "\n",
    "for i in my_dict.values():\n",
    "    print(i)\n",
    "    if type(i) == list:\n",
    "        for j in i:\n",
    "            print(j)"
   ]
  },
  {
   "cell_type": "code",
   "execution_count": 8,
   "metadata": {},
   "outputs": [
    {
     "name": "stdout",
     "output_type": "stream",
     "text": [
      "(1990, 'The Office')\n",
      "(1994, 'Friends')\n",
      "(1996, ['The Big Bang Theory', 'Person of Interest'])\n"
     ]
    }
   ],
   "source": [
    "#items()\n",
    "\n",
    "for i in my_dict.items():\n",
    "    print(i)"
   ]
  },
  {
   "cell_type": "code",
   "execution_count": 9,
   "metadata": {},
   "outputs": [
    {
     "name": "stdout",
     "output_type": "stream",
     "text": [
      "key: 1990 ---- value: The Office\n",
      "key: 1994 ---- value: Friends\n",
      "key: 1996 ---- value: ['The Big Bang Theory', 'Person of Interest']\n"
     ]
    }
   ],
   "source": [
    "#items\n",
    "\n",
    "for item in my_dict.items():\n",
    "    print(f\"key: {item[0]} ---- value: {item[1]}\")"
   ]
  },
  {
   "cell_type": "markdown",
   "metadata": {},
   "source": [
    "*Bir sözlüğün uzunluğu*"
   ]
  },
  {
   "cell_type": "code",
   "execution_count": 10,
   "metadata": {},
   "outputs": [
    {
     "name": "stdout",
     "output_type": "stream",
     "text": [
      "3\n"
     ]
    }
   ],
   "source": [
    "print(len(my_dict))"
   ]
  },
  {
   "cell_type": "markdown",
   "metadata": {},
   "source": [
    "*Sözlüğe eleman ekleme*"
   ]
  },
  {
   "cell_type": "code",
   "execution_count": 11,
   "metadata": {},
   "outputs": [
    {
     "name": "stdout",
     "output_type": "stream",
     "text": [
      "{1990: 'The Office', 1994: 'Friends', 1996: 'The Big Bang Theory', 1991: 'Gilmore Girls'}\n"
     ]
    }
   ],
   "source": [
    "#key - value ile ekleme\n",
    "my_dict = {1990: \"The Office\", 1994:\"Friends\", 1996: \"The Big Bang Theory\"}\n",
    "\n",
    "my_dict[1991] = \"Gilmore Girls\"\n",
    "print(my_dict)"
   ]
  },
  {
   "cell_type": "code",
   "execution_count": 12,
   "metadata": {},
   "outputs": [
    {
     "name": "stdout",
     "output_type": "stream",
     "text": [
      "{1990: 'Doctor Who', 1994: 'Friends', 1996: 'The Big Bang Theory', 1991: 'Gilmore Girls'}\n"
     ]
    }
   ],
   "source": [
    "#var olan key değerini ezip yeni değeri ekler\n",
    "my_dict[1990] = \"Doctor Who\"\n",
    "print(my_dict)"
   ]
  },
  {
   "cell_type": "code",
   "execution_count": 13,
   "metadata": {},
   "outputs": [
    {
     "name": "stdout",
     "output_type": "stream",
     "text": [
      "{1990: 'Gilmore Girls', 1994: 'Friends', 1996: 'The Big Bang Theory', 1991: 'Doctor Who'}\n"
     ]
    }
   ],
   "source": [
    "my_dict = {1990: [\"The Office\"], 1994:\"Friends\", 1996: \"The Big Bang Theory\"}\n",
    "my_dict.update({1991:\"Doctor Who\", 1990:\"Gilmore Girls\"})\n",
    "\n",
    "print(my_dict)"
   ]
  },
  {
   "cell_type": "code",
   "execution_count": 14,
   "metadata": {},
   "outputs": [
    {
     "name": "stdout",
     "output_type": "stream",
     "text": [
      "{0: 'Serenad', 1: '1984', 2: 'Demir Ökçe'}\n",
      "{0: 'Serenad', 1: '1984', 2: 'Harry Potter'}\n"
     ]
    }
   ],
   "source": [
    "my_books = {0:\"Serenad\", 1:\"Küçük Prens\", 2:\"Demir Ökçe\"}\n",
    "\n",
    "my_books[1] = \"1984\"\n",
    "print(my_books)\n",
    "\n",
    "my_books.update({2:\"Harry Potter\"})\n",
    "print(my_books)"
   ]
  },
  {
   "cell_type": "markdown",
   "metadata": {},
   "source": [
    "**Silme işlemleri**\n",
    "\n",
    "* del key\n",
    "* clear()\n",
    "* del dict_name\n",
    "* pop(key)\n",
    "* popitem()"
   ]
  },
  {
   "cell_type": "code",
   "execution_count": 15,
   "metadata": {},
   "outputs": [
    {
     "name": "stdout",
     "output_type": "stream",
     "text": [
      "{'name': 'Aysel', 'tc': 2141243, 'year': 2022, 'job': 'Computer Engineer'}\n",
      "{'name': 'Aysel', 'year': 2022, 'job': 'Computer Engineer'}\n"
     ]
    }
   ],
   "source": [
    "# del key -> sözlükteki key değerini alır ve siler\n",
    "\n",
    "my_info = {\"name\":\"Aysel\", \"tc\": 2141243, \"year\":2022, \"job\":\"Computer Engineer\"}\n",
    "print(my_info)\n",
    "\n",
    "del my_info[\"tc\"]\n",
    "print(my_info)"
   ]
  },
  {
   "cell_type": "code",
   "execution_count": 16,
   "metadata": {},
   "outputs": [
    {
     "ename": "KeyError",
     "evalue": "'tc'",
     "output_type": "error",
     "traceback": [
      "\u001b[1;31m---------------------------------------------------------------------------\u001b[0m",
      "\u001b[1;31mKeyError\u001b[0m                                  Traceback (most recent call last)",
      "\u001b[1;32md:\\SistersLab\\python-projects\\5.Hafta.ipynb Cell 21'\u001b[0m in \u001b[0;36m<cell line: 1>\u001b[1;34m()\u001b[0m\n\u001b[1;32m----> <a href='vscode-notebook-cell:/d%3A/SistersLab/python-projects/5.Hafta.ipynb#ch0000020?line=0'>1</a>\u001b[0m \u001b[39mprint\u001b[39m(my_info[\u001b[39m\"\u001b[39;49m\u001b[39mtc\u001b[39;49m\u001b[39m\"\u001b[39;49m])\n",
      "\u001b[1;31mKeyError\u001b[0m: 'tc'"
     ]
    }
   ],
   "source": [
    "print(my_info[\"tc\"])"
   ]
  },
  {
   "cell_type": "code",
   "execution_count": 17,
   "metadata": {},
   "outputs": [
    {
     "name": "stdout",
     "output_type": "stream",
     "text": [
      "{'name': 'Aysel', 'tc': 2141243, 'year': 2022, 'job': 'Computer Engineer'}\n",
      "{}\n"
     ]
    }
   ],
   "source": [
    "#clear() -> Tüm elemanları siler\n",
    "my_info = {\"name\":\"Aysel\", \"tc\": 2141243, \"year\":2022, \"job\":\"Computer Engineer\"}\n",
    "print(my_info)\n",
    "\n",
    "my_info.clear()\n",
    "print(my_info)"
   ]
  },
  {
   "cell_type": "code",
   "execution_count": 18,
   "metadata": {},
   "outputs": [
    {
     "name": "stdout",
     "output_type": "stream",
     "text": [
      "{'name': 'Aysel', 'tc': 2141243, 'year': 2022, 'job': 'Computer Engineer'}\n"
     ]
    },
    {
     "ename": "NameError",
     "evalue": "name 'my_info' is not defined",
     "output_type": "error",
     "traceback": [
      "\u001b[1;31m---------------------------------------------------------------------------\u001b[0m",
      "\u001b[1;31mNameError\u001b[0m                                 Traceback (most recent call last)",
      "\u001b[1;32md:\\SistersLab\\python-projects\\5.Hafta.ipynb Cell 24'\u001b[0m in \u001b[0;36m<cell line: 6>\u001b[1;34m()\u001b[0m\n\u001b[0;32m      <a href='vscode-notebook-cell:/d%3A/SistersLab/python-projects/5.Hafta.ipynb#ch0000023?line=2'>3</a>\u001b[0m \u001b[39mprint\u001b[39m(my_info)\n\u001b[0;32m      <a href='vscode-notebook-cell:/d%3A/SistersLab/python-projects/5.Hafta.ipynb#ch0000023?line=4'>5</a>\u001b[0m \u001b[39mdel\u001b[39;00m my_info\n\u001b[1;32m----> <a href='vscode-notebook-cell:/d%3A/SistersLab/python-projects/5.Hafta.ipynb#ch0000023?line=5'>6</a>\u001b[0m \u001b[39mprint\u001b[39m(my_info)\n",
      "\u001b[1;31mNameError\u001b[0m: name 'my_info' is not defined"
     ]
    }
   ],
   "source": [
    "#del dict_name -> Sözlüğü tamamen siler\n",
    "my_info = {\"name\":\"Aysel\", \"tc\": 2141243, \"year\":2022, \"job\":\"Computer Engineer\"}\n",
    "print(my_info)\n",
    "\n",
    "del my_info\n",
    "print(my_info)"
   ]
  },
  {
   "cell_type": "code",
   "execution_count": 19,
   "metadata": {},
   "outputs": [
    {
     "name": "stdout",
     "output_type": "stream",
     "text": [
      "{'name': 'Aysel', 'tc': 2141243, 'year': 2022, 'job': 'Computer Engineer'}\n",
      "{'name': 'Aysel', 'tc': 2141243, 'year': 2022}\n"
     ]
    }
   ],
   "source": [
    "#popitem() -> Son elemanı sözlükten kaldırır\n",
    "my_info = {\"name\":\"Aysel\", \"tc\": 2141243, \"year\":2022, \"job\":\"Computer Engineer\"}\n",
    "print(my_info)\n",
    "\n",
    "my_info.popitem()\n",
    "print(my_info)"
   ]
  },
  {
   "cell_type": "code",
   "execution_count": 23,
   "metadata": {},
   "outputs": [
    {
     "ename": "KeyError",
     "evalue": "'popitem(): dictionary is empty'",
     "output_type": "error",
     "traceback": [
      "\u001b[1;31m---------------------------------------------------------------------------\u001b[0m",
      "\u001b[1;31mKeyError\u001b[0m                                  Traceback (most recent call last)",
      "\u001b[1;32md:\\SistersLab\\python-projects\\5.Hafta.ipynb Cell 29'\u001b[0m in \u001b[0;36m<cell line: 2>\u001b[1;34m()\u001b[0m\n\u001b[0;32m      <a href='vscode-notebook-cell:/d%3A/SistersLab/python-projects/5.Hafta.ipynb#ch0000028?line=0'>1</a>\u001b[0m \u001b[39m#boş listede uygulayınca hata verir\u001b[39;00m\n\u001b[1;32m----> <a href='vscode-notebook-cell:/d%3A/SistersLab/python-projects/5.Hafta.ipynb#ch0000028?line=1'>2</a>\u001b[0m my_info\u001b[39m.\u001b[39;49mpopitem()\n\u001b[0;32m      <a href='vscode-notebook-cell:/d%3A/SistersLab/python-projects/5.Hafta.ipynb#ch0000028?line=2'>3</a>\u001b[0m \u001b[39mprint\u001b[39m(my_info)\n",
      "\u001b[1;31mKeyError\u001b[0m: 'popitem(): dictionary is empty'"
     ]
    }
   ],
   "source": [
    "#boş listede uygulayınca hata verir\n",
    "my_info.popitem()\n",
    "print(my_info)"
   ]
  },
  {
   "cell_type": "code",
   "execution_count": 24,
   "metadata": {},
   "outputs": [
    {
     "name": "stdout",
     "output_type": "stream",
     "text": [
      "{'name': 'Aysel', 'tc': 2141243, 'year': 2022, 'job': 'Computer Engineer'}\n",
      "{'name': 'Aysel', 'tc': 2141243, 'job': 'Computer Engineer'}\n"
     ]
    }
   ],
   "source": [
    "#pop\n",
    "my_info = {\"name\":\"Aysel\", \"tc\": 2141243, \"year\":2022, \"job\":\"Computer Engineer\"}\n",
    "print(my_info)\n",
    "\n",
    "my_info.pop(\"year\")\n",
    "print(my_info)"
   ]
  },
  {
   "cell_type": "code",
   "execution_count": 25,
   "metadata": {},
   "outputs": [
    {
     "ename": "KeyError",
     "evalue": "'year'",
     "output_type": "error",
     "traceback": [
      "\u001b[1;31m---------------------------------------------------------------------------\u001b[0m",
      "\u001b[1;31mKeyError\u001b[0m                                  Traceback (most recent call last)",
      "\u001b[1;32md:\\SistersLab\\python-projects\\5.Hafta.ipynb Cell 32'\u001b[0m in \u001b[0;36m<cell line: 2>\u001b[1;34m()\u001b[0m\n\u001b[0;32m      <a href='vscode-notebook-cell:/d%3A/SistersLab/python-projects/5.Hafta.ipynb#ch0000031?line=0'>1</a>\u001b[0m \u001b[39m#Olmayan bir key değeri silinmeye çalışıldığında hata verir\u001b[39;00m\n\u001b[1;32m----> <a href='vscode-notebook-cell:/d%3A/SistersLab/python-projects/5.Hafta.ipynb#ch0000031?line=1'>2</a>\u001b[0m my_info\u001b[39m.\u001b[39;49mpop(\u001b[39m\"\u001b[39;49m\u001b[39myear\u001b[39;49m\u001b[39m\"\u001b[39;49m)\n\u001b[0;32m      <a href='vscode-notebook-cell:/d%3A/SistersLab/python-projects/5.Hafta.ipynb#ch0000031?line=2'>3</a>\u001b[0m \u001b[39mprint\u001b[39m(my_info)\n",
      "\u001b[1;31mKeyError\u001b[0m: 'year'"
     ]
    }
   ],
   "source": [
    "#Olmayan bir key değeri silinmeye çalışıldığında hata verir\n",
    "my_info.pop(\"year\")\n",
    "print(my_info)"
   ]
  },
  {
   "cell_type": "code",
   "execution_count": 26,
   "metadata": {},
   "outputs": [
    {
     "name": "stdout",
     "output_type": "stream",
     "text": [
      "Year değerine sahip bir key bulunmamaktadır\n"
     ]
    }
   ],
   "source": [
    "if \"year\" in my_info.keys():\n",
    "    my_info.pop(\"year\")\n",
    "else:\n",
    "    print(\"Year değerine sahip bir key bulunmamaktadır\")"
   ]
  },
  {
   "cell_type": "markdown",
   "metadata": {},
   "source": [
    "**İki Sözlüğü Birleştirme**\n",
    "\n",
    "* update()\n",
    "* ** ile"
   ]
  },
  {
   "cell_type": "code",
   "execution_count": 27,
   "metadata": {},
   "outputs": [
    {
     "name": "stdout",
     "output_type": "stream",
     "text": [
      "{'Adana': 1, 'İstanbul': 34, 'İzmir': 35, 'Çanakkale': 17}\n",
      "{'Samsun': 55}\n",
      "{'Adana': 1, 'İstanbul': 34, 'İzmir': 35, 'Çanakkale': 17, 'Samsun': 55}\n",
      "{'Samsun': 55}\n"
     ]
    }
   ],
   "source": [
    "#update()\n",
    "\n",
    "my_dict1 = {\"Adana\":1, \"İstanbul\":34, \"İzmir\":35, \"Çanakkale\":17}\n",
    "my_dict2 = {\"Samsun\":55}\n",
    "print(my_dict1)\n",
    "print(my_dict2)\n",
    "\n",
    "my_dict1.update(my_dict2) #ilk sözlüğü ikinciyle birleştirip günceller\n",
    "print(my_dict1)\n",
    "print(my_dict2)"
   ]
  },
  {
   "cell_type": "code",
   "execution_count": 28,
   "metadata": {},
   "outputs": [
    {
     "name": "stdout",
     "output_type": "stream",
     "text": [
      "{'Adana': 1, 'İstanbul': 34, 'İzmir': 35, 'Çanakkale': 17, 'Samsun': 55}\n"
     ]
    }
   ],
   "source": [
    "#** ile birleştirme\n",
    "my_dict1 = {\"Adana\":2, \"İstanbul\":34, \"İzmir\":35, \"Çanakkale\":17}\n",
    "my_dict2 = {\"Samsun\":55, \"Adana\":1}\n",
    "\n",
    "plakalar = {**my_dict1, **my_dict2}\n",
    "print(plakalar)\n",
    "\n",
    "#Yeni key eklenir, var olan key değeri güncellenir"
   ]
  },
  {
   "cell_type": "markdown",
   "metadata": {},
   "source": [
    "**Sözlük kopyalama**\n",
    "\n",
    "* = operatörü\n",
    "* copy()\n",
    "* dict()"
   ]
  },
  {
   "cell_type": "code",
   "execution_count": 29,
   "metadata": {},
   "outputs": [
    {
     "name": "stdout",
     "output_type": "stream",
     "text": [
      "{'Başak': 23, 'Bircan': 18, 'Asena': 21}\n",
      "{'Başak': 20, 'Bircan': 18, 'Asena': 21}\n"
     ]
    }
   ],
   "source": [
    "# = operatörü\n",
    "age_dict = {\"Başak\":23, \"Bircan\": 18, \"Asena\":21}\n",
    "copy_dict = age_dict\n",
    "print(copy_dict)\n",
    "\n",
    "copy_dict[\"Başak\"] = 20\n",
    "print(age_dict)"
   ]
  },
  {
   "cell_type": "code",
   "execution_count": 30,
   "metadata": {},
   "outputs": [
    {
     "name": "stdout",
     "output_type": "stream",
     "text": [
      "{'Başak': 20, 'Bircan': 18, 'Asena': 21}\n",
      "{'Başak': 23, 'Bircan': 18, 'Asena': 21}\n"
     ]
    }
   ],
   "source": [
    "#copy()\n",
    "age_dict = {\"Başak\":23, \"Bircan\": 18, \"Asena\":21}\n",
    "copy_dict = age_dict.copy()\n",
    "\n",
    "copy_dict[\"Başak\"] = 20\n",
    "print(copy_dict)\n",
    "print(age_dict)"
   ]
  },
  {
   "cell_type": "code",
   "execution_count": 31,
   "metadata": {},
   "outputs": [
    {
     "name": "stdout",
     "output_type": "stream",
     "text": [
      "{'Başak': 20, 'Bircan': 18, 'Asena': 21}\n",
      "{'Başak': 23, 'Bircan': 18, 'Asena': 21}\n"
     ]
    }
   ],
   "source": [
    "#dict()\n",
    "age_dict = {\"Başak\":23, \"Bircan\": 18, \"Asena\":21}\n",
    "copy_dict = dict(age_dict)\n",
    "\n",
    "copy_dict[\"Başak\"] = 20\n",
    "print(copy_dict)\n",
    "print(age_dict)"
   ]
  },
  {
   "cell_type": "markdown",
   "metadata": {},
   "source": [
    "*iç içe sözlükler*"
   ]
  },
  {
   "cell_type": "code",
   "execution_count": 32,
   "metadata": {},
   "outputs": [
    {
     "name": "stdout",
     "output_type": "stream",
     "text": [
      "key: name ---- value: Aysel\n",
      "key: tc ---- value: 2141243\n",
      "key: year ---- value: 2022\n",
      "key: city ---- value: {'city1': 'Adana', 'city2': 'İstanbul'}\n"
     ]
    }
   ],
   "source": [
    "cities = {\"city1\":\"Adana\", \"city2\":\"İstanbul\"}\n",
    "my_info = {\"name\":\"Aysel\", \"tc\": 2141243, \"year\":2022}\n",
    "\n",
    "my_info.update({\"city\": cities})\n",
    "\n",
    "for key, value in my_info.items():\n",
    "    print(f\"key: {key} ---- value: {value}\")"
   ]
  },
  {
   "cell_type": "code",
   "execution_count": 33,
   "metadata": {},
   "outputs": [
    {
     "name": "stdout",
     "output_type": "stream",
     "text": [
      "key: name ---- value: Aysel\n",
      "key: tc ---- value: 2141243\n",
      "key: year ---- value: 2022\n",
      "key: city ---- value: {'city1': 'Adana', 'city2': 'İstanbul'}\n"
     ]
    }
   ],
   "source": [
    "for item in my_info.items():\n",
    "    print(f\"key: {item[0]} ---- value: {item[1]}\")"
   ]
  },
  {
   "cell_type": "code",
   "execution_count": 34,
   "metadata": {},
   "outputs": [
    {
     "name": "stdout",
     "output_type": "stream",
     "text": [
      "['Adana', 'Çanakkale', 'İstanbul', 'İzmir']\n",
      "[2, 17, 34, 35]\n",
      "[('Adana', 2), ('Çanakkale', 17), ('İstanbul', 34), ('İzmir', 35)]\n"
     ]
    }
   ],
   "source": [
    "my_dict1 = {\"Adana\":2, \"İstanbul\":34, \"İzmir\":35, \"Çanakkale\":17}\n",
    "\n",
    "print(sorted(my_dict1.keys()))\n",
    "print(sorted(my_dict1.values()))\n",
    "\n",
    "print(sorted(my_dict1.items()))"
   ]
  },
  {
   "cell_type": "code",
   "execution_count": 35,
   "metadata": {},
   "outputs": [
    {
     "ename": "TypeError",
     "evalue": "'<' not supported between instances of 'int' and 'str'",
     "output_type": "error",
     "traceback": [
      "\u001b[1;31m---------------------------------------------------------------------------\u001b[0m",
      "\u001b[1;31mTypeError\u001b[0m                                 Traceback (most recent call last)",
      "\u001b[1;32md:\\SistersLab\\python-projects\\5.Hafta.ipynb Cell 46'\u001b[0m in \u001b[0;36m<cell line: 3>\u001b[1;34m()\u001b[0m\n\u001b[0;32m      <a href='vscode-notebook-cell:/d%3A/SistersLab/python-projects/5.Hafta.ipynb#ch0000045?line=0'>1</a>\u001b[0m my_info \u001b[39m=\u001b[39m {\u001b[39m\"\u001b[39m\u001b[39mname\u001b[39m\u001b[39m\"\u001b[39m:\u001b[39m\"\u001b[39m\u001b[39mAysel\u001b[39m\u001b[39m\"\u001b[39m, \u001b[39m\"\u001b[39m\u001b[39mtc\u001b[39m\u001b[39m\"\u001b[39m: \u001b[39m2141243\u001b[39m, \u001b[39m\"\u001b[39m\u001b[39myear\u001b[39m\u001b[39m\"\u001b[39m:\u001b[39m2022\u001b[39m}\n\u001b[1;32m----> <a href='vscode-notebook-cell:/d%3A/SistersLab/python-projects/5.Hafta.ipynb#ch0000045?line=2'>3</a>\u001b[0m \u001b[39mprint\u001b[39m(\u001b[39msorted\u001b[39;49m(my_info\u001b[39m.\u001b[39;49mvalues()))\n",
      "\u001b[1;31mTypeError\u001b[0m: '<' not supported between instances of 'int' and 'str'"
     ]
    }
   ],
   "source": [
    "my_info = {\"name\":\"Aysel\", \"tc\": 2141243, \"year\":2022}\n",
    "\n",
    "print(sorted(my_info.values()))"
   ]
  },
  {
   "cell_type": "code",
   "execution_count": 36,
   "metadata": {},
   "outputs": [
    {
     "name": "stdout",
     "output_type": "stream",
     "text": [
      "dict_keys(['hidrojen', 'oksijen', 'karbon', 'helyum'])\n",
      "1 8 6 2 \n",
      "('hidrojen', 1)\n",
      "('oksijen', 8)\n",
      "('karbon', 6)\n",
      "('helyum', 2)\n"
     ]
    }
   ],
   "source": [
    "#Dict. value, key ve item değerlerini sırasıyla ekrana basalım\n",
    "elements = {\"hidrojen\":1, \"oksijen\":8, \"karbon\":6, \"helyum\":2}\n",
    "\n",
    "print(elements.keys())\n",
    "for i in elements.values():\n",
    "    print(i, end=\" \")\n",
    "    \n",
    "print()\n",
    "for item in elements.items():\n",
    "    print(item)"
   ]
  },
  {
   "cell_type": "code",
   "execution_count": 37,
   "metadata": {},
   "outputs": [
    {
     "name": "stdout",
     "output_type": "stream",
     "text": [
      "{'İstanbul': 10, 'Ankara': 9, 'İzmir': 8}\n",
      "{'İstanbul': 18, 'Ankara': 15, 'İzmir': 13}\n"
     ]
    }
   ],
   "source": [
    "#Nüfus bilgileri hatalı yazılan illerin value değerlerine key değerlerinin\n",
    "#karakter uzunluğu kadar ekleme yapacağız\n",
    "population = {\n",
    "    \"İstanbul\":10,\n",
    "    \"Ankara\":9,\n",
    "    \"İzmir\":8\n",
    "}\n",
    "print(population)\n",
    "\n",
    "#for key, value in population.items():\n",
    "#    population[key] = value + len(key)\n",
    "\n",
    "for item in population.items():\n",
    "    population[item[0]] = item[1] + len(item[0])\n",
    "\n",
    "print(population)"
   ]
  },
  {
   "cell_type": "code",
   "execution_count": 38,
   "metadata": {},
   "outputs": [
    {
     "name": "stdout",
     "output_type": "stream",
     "text": [
      "{'joey': 'joey_tribbiani', 'rachel': 'rachel_green', 'monica': 'monica_geller', 'phoebe': 'phoebe_buffay', 'chandler': 'chandler_bing', 'ross': 'ross_geller'}\n"
     ]
    }
   ],
   "source": [
    "#friends dizisinin oyuncularının isminden oluşan sözlüğümüzde isim soy ismi _ ile \n",
    "#birleştirip ardından tüm harfleri küçük harfe çevirip value değerlerini\n",
    "#update metodu ile güncelleyelim. Value değerleri üzerinde işlem yaparken fonksiyon kullanlım\n",
    "#Joey Tribbiani -> joey_tribbiani\n",
    "\n",
    "def set_value(name):\n",
    "    return name.replace(\" \", \"_\").lower()\n",
    "\n",
    "friends = {\n",
    "    \"joey\":\"Joey Tribbiani\",\n",
    "    \"rachel\":\"Rachel Green\",\n",
    "    \"monica\":\"Monica Geller\",\n",
    "    \"phoebe\":\"Phoebe Buffay\",\n",
    "    \"chandler\":\"Chandler Bing\",\n",
    "    \"ross\":\"Ross Geller\"\n",
    "}\n",
    "\n",
    "for key, value in friends.items():\n",
    "    friends.update({key:set_value(value)})\n",
    "\n",
    "print(friends)"
   ]
  },
  {
   "cell_type": "code",
   "execution_count": 39,
   "metadata": {},
   "outputs": [
    {
     "name": "stdout",
     "output_type": "stream",
     "text": [
      "1\n"
     ]
    }
   ],
   "source": [
    "#item1 key ait value değerini ekrana basalım\n",
    "my_dict = {\n",
    "    \"Python\":{\n",
    "        \"weeks\":{\n",
    "            \"data_structures\":\"list\", \n",
    "            \"dictionary\": {\n",
    "                \"item1\":1, \"item2\":2\n",
    "                    }\n",
    "                }\n",
    "            }\n",
    "        }\n",
    "\n",
    "print(my_dict[\"Python\"][\"weeks\"][\"dictionary\"][\"item1\"])"
   ]
  },
  {
   "cell_type": "code",
   "execution_count": 40,
   "metadata": {},
   "outputs": [
    {
     "name": "stdout",
     "output_type": "stream",
     "text": [
      "{'Merve': 20, 'Emre': 22, 'Burak': 32, 'Asena': 19, 'Bircan': 26}\n"
     ]
    }
   ],
   "source": [
    "\n",
    "#iki sözlüğü birleştirelim\n",
    "my_dict1 = {\"Merve\":20, \"Emre\":22, \"Burak\":29}\n",
    "my_dict2 = {\"Burak\":32, \"Asena\":19, \"Bircan\":26}\n",
    "\n",
    "new_dict = {**my_dict1, **my_dict2}\n",
    "print(new_dict)"
   ]
  },
  {
   "cell_type": "code",
   "execution_count": 41,
   "metadata": {},
   "outputs": [
    {
     "name": "stdout",
     "output_type": "stream",
     "text": [
      "{'Adana': '01', 'İstanbul': '34', 'İzmir': '35'}\n"
     ]
    }
   ],
   "source": [
    "#iki listeyi birleştirip bir sözlük oluşturalım\n",
    "\n",
    "key_list = [\"Adana\", \"İstanbul\", \"İzmir\"]\n",
    "value_list = [\"01\", \"34\", \"35\"]\n",
    "\n",
    "cities = dict()\n",
    "for i in range(len(key_list)):\n",
    "    cities[key_list[i]] = value_list[i]\n",
    "    \n",
    "print(cities)"
   ]
  },
  {
   "cell_type": "code",
   "execution_count": 42,
   "metadata": {},
   "outputs": [
    {
     "name": "stdout",
     "output_type": "stream",
     "text": [
      "{'Adana': '01', 'İstanbul': '34', 'İzmir': '35'}\n"
     ]
    }
   ],
   "source": [
    "#iki listeyi zip ile birleştirip bir sözlük oluşturalım\n",
    "key_list = [\"Adana\", \"İstanbul\", \"İzmir\"]\n",
    "value_list = [\"01\", \"34\", \"35\"]\n",
    "\n",
    "#zip(keys, values)\n",
    "my_dict = dict(zip(key_list, value_list))\n",
    "print(my_dict)"
   ]
  },
  {
   "cell_type": "code",
   "execution_count": 43,
   "metadata": {},
   "outputs": [
    {
     "name": "stdout",
     "output_type": "stream",
     "text": [
      "{'name': 'Aysel', 'surname': 'Aydin', 'title': 'Engineer', 'year': 2022}\n",
      "{'name': 'Aysel', 'title': 'Engineer'}\n"
     ]
    }
   ],
   "source": [
    "#Listenin içerisinde çıkarmak istediğimiz key değerleri yer alıyor\n",
    "#Olmayan bir key değeri varsa hata almamak için kontrol ekle\n",
    "#List elemanlarına göre sözlükten o key değerlerini kaldıralım\n",
    "\n",
    "my_info = {\"name\":\"Aysel\", \"surname\":\"Aydin\", \"title\":\"Engineer\", \"year\":2022}\n",
    "my_list = [\"surname\", \"year\", \"job\"]\n",
    "print(my_info)\n",
    "\n",
    "for i in my_list:\n",
    "    if i in my_info.keys():\n",
    "        del my_info[i]\n",
    "        #my_info.pop(i)\n",
    "\n",
    "print(my_info)"
   ]
  }
 ],
 "metadata": {
  "interpreter": {
   "hash": "ad2bdc8ecc057115af97d19610ffacc2b4e99fae6737bb82f5d7fb13d2f2c186"
  },
  "kernelspec": {
   "display_name": "Python 3.9.12 ('base')",
   "language": "python",
   "name": "python3"
  },
  "language_info": {
   "codemirror_mode": {
    "name": "ipython",
    "version": 3
   },
   "file_extension": ".py",
   "mimetype": "text/x-python",
   "name": "python",
   "nbconvert_exporter": "python",
   "pygments_lexer": "ipython3",
   "version": "3.9.12"
  },
  "orig_nbformat": 4
 },
 "nbformat": 4,
 "nbformat_minor": 2
}
