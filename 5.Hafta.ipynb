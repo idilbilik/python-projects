{
 "cells": [
  {
   "cell_type": "markdown",
   "metadata": {},
   "source": [
    "Set\n",
    "\n",
    "* index ile erişilemezler, unordered yani sıralı değillerdir.\n",
    "* Değiştirilemezler (immutable). Tupledan farkı burada sete yeni eleman ekleme çıkarma işlemlerini yapabiliyoruz. Ama setin içindeki bir elemanı değiştiremiyoruz.\n",
    "* {} parantez içerisinde tanımlanırlar. Elemanlar virgüller ile ayrılır.\n",
    "* Farklı tipte veriler içerebilir.\n",
    "* Duplicate veri taşıyamazlar. Aynı değere sahip iki eleman bulunamaz."
   ]
  },
  {
   "cell_type": "code",
   "execution_count": 1,
   "metadata": {},
   "outputs": [],
   "source": [
    "int_set = {1, 2, 3, 4}\n",
    "string_set = {\"İdil\", \"Buket\", \"Yağmur\"}\n",
    "mix_set = {\"Sisterslab\", 2022, True, 3.14}"
   ]
  },
  {
   "cell_type": "code",
   "execution_count": 2,
   "metadata": {},
   "outputs": [
    {
     "name": "stdout",
     "output_type": "stream",
     "text": [
      "{True, 3.14, 2022, 'Sisterslab'}\n"
     ]
    }
   ],
   "source": [
    "\n",
    "print(mix_set)"
   ]
  },
  {
   "cell_type": "code",
   "execution_count": 3,
   "metadata": {},
   "outputs": [
    {
     "name": "stdout",
     "output_type": "stream",
     "text": [
      "<class 'set'>\n"
     ]
    }
   ],
   "source": [
    "print(type(mix_set))"
   ]
  },
  {
   "cell_type": "code",
   "execution_count": 4,
   "metadata": {},
   "outputs": [
    {
     "name": "stdout",
     "output_type": "stream",
     "text": [
      "{1, 2, 3, 4, 5}\n"
     ]
    }
   ],
   "source": [
    "my_set = {1, 3, 4, 2, 1, 3, 4, 2, 5} #duplicate veriler kaldırılır\n",
    "print(my_set)"
   ]
  },
  {
   "cell_type": "code",
   "execution_count": 5,
   "metadata": {},
   "outputs": [
    {
     "name": "stdout",
     "output_type": "stream",
     "text": [
      "[1, 3, 4, 2, 1, 3, 4, 2, 5, 5, 4, 3]\n",
      "{1, 2, 3, 4, 5}\n",
      "[1, 2, 3, 4, 5]\n"
     ]
    }
   ],
   "source": [
    "my_list = [1, 3, 4, 2, 1, 3, 4, 2, 5, 5, 4, 3]\n",
    "print(my_list)\n",
    "\n",
    "#Set ile duplicate verilerin silinmesi\n",
    "my_set = set(my_list)\n",
    "print(my_set)\n",
    "\n",
    "my_list = list(my_set)\n",
    "print(my_list)"
   ]
  },
  {
   "cell_type": "code",
   "execution_count": 6,
   "metadata": {},
   "outputs": [
    {
     "name": "stdout",
     "output_type": "stream",
     "text": [
      "[1, 6, 3, 4, 2, 1, 3, 4, 2, 5, 5, 4, 3]\n",
      "[1, 6, 3, 4, 2, 5]\n"
     ]
    }
   ],
   "source": [
    "my_list = [1, 6, 3, 4, 2, 1, 3, 4, 2, 5, 5, 4, 3]\n",
    "print(my_list)\n",
    "#döngü ile kontrol (duplicate verilerin silinmesi)\n",
    "unique_list = []\n",
    "for i in my_list:\n",
    "    if i not in unique_list:\n",
    "        unique_list.append(i)\n",
    "\n",
    "print(unique_list)"
   ]
  },
  {
   "cell_type": "code",
   "execution_count": 7,
   "metadata": {},
   "outputs": [
    {
     "ename": "TypeError",
     "evalue": "unhashable type: 'list'",
     "output_type": "error",
     "traceback": [
      "\u001b[1;31m---------------------------------------------------------------------------\u001b[0m",
      "\u001b[1;31mTypeError\u001b[0m                                 Traceback (most recent call last)",
      "\u001b[1;32md:\\SistersLab\\python-projects\\5.Hafta.ipynb Cell 8'\u001b[0m in \u001b[0;36m<cell line: 2>\u001b[1;34m()\u001b[0m\n\u001b[0;32m      <a href='vscode-notebook-cell:/d%3A/SistersLab/python-projects/5.Hafta.ipynb#ch0000008?line=0'>1</a>\u001b[0m \u001b[39m#Set içerisinde liste \u001b[39;00m\n\u001b[1;32m----> <a href='vscode-notebook-cell:/d%3A/SistersLab/python-projects/5.Hafta.ipynb#ch0000008?line=1'>2</a>\u001b[0m my_set \u001b[39m=\u001b[39m {\u001b[39m\"\u001b[39m\u001b[39mNurcan\u001b[39m\u001b[39m\"\u001b[39m, \u001b[39m\"\u001b[39m\u001b[39mNurdan\u001b[39m\u001b[39m\"\u001b[39m, \u001b[39m\"\u001b[39m\u001b[39mCeyda\u001b[39m\u001b[39m\"\u001b[39m, [\u001b[39m\"\u001b[39m\u001b[39mİdil\u001b[39m\u001b[39m\"\u001b[39m, \u001b[39m\"\u001b[39m\u001b[39mNurefşan\u001b[39m\u001b[39m\"\u001b[39m]}\n\u001b[0;32m      <a href='vscode-notebook-cell:/d%3A/SistersLab/python-projects/5.Hafta.ipynb#ch0000008?line=3'>4</a>\u001b[0m \u001b[39mprint\u001b[39m(my_set)\n",
      "\u001b[1;31mTypeError\u001b[0m: unhashable type: 'list'"
     ]
    }
   ],
   "source": [
    "#Set içerisinde liste \n",
    "my_set = {\"Nurcan\", \"Nurdan\", \"Ceyda\", [\"İdil\", \"Nurefşan\"]}\n",
    "\n",
    "print(my_set)"
   ]
  },
  {
   "cell_type": "code",
   "execution_count": 8,
   "metadata": {},
   "outputs": [
    {
     "name": "stdout",
     "output_type": "stream",
     "text": [
      "{'Ceyda', 'Nurcan', ('İdil', 'Nurefşan'), 'Nurdan'}\n"
     ]
    }
   ],
   "source": [
    "#set içerisinde tuple\n",
    "my_set = {\"Nurcan\", \"Nurdan\", \"Ceyda\", (\"İdil\", \"Nurefşan\")}\n",
    "\n",
    "print(my_set)"
   ]
  },
  {
   "cell_type": "code",
   "execution_count": 9,
   "metadata": {},
   "outputs": [
    {
     "ename": "TypeError",
     "evalue": "unhashable type: 'list'",
     "output_type": "error",
     "traceback": [
      "\u001b[1;31m---------------------------------------------------------------------------\u001b[0m",
      "\u001b[1;31mTypeError\u001b[0m                                 Traceback (most recent call last)",
      "\u001b[1;32md:\\SistersLab\\python-projects\\5.Hafta.ipynb Cell 10'\u001b[0m in \u001b[0;36m<cell line: 2>\u001b[1;34m()\u001b[0m\n\u001b[0;32m      <a href='vscode-notebook-cell:/d%3A/SistersLab/python-projects/5.Hafta.ipynb#ch0000010?line=0'>1</a>\u001b[0m \u001b[39m#set içerisinde tuple, tuple içerisinde list\u001b[39;00m\n\u001b[1;32m----> <a href='vscode-notebook-cell:/d%3A/SistersLab/python-projects/5.Hafta.ipynb#ch0000010?line=1'>2</a>\u001b[0m my_set \u001b[39m=\u001b[39m {\u001b[39m\"\u001b[39m\u001b[39mNurcan\u001b[39m\u001b[39m\"\u001b[39m, \u001b[39m\"\u001b[39m\u001b[39mNurdan\u001b[39m\u001b[39m\"\u001b[39m, \u001b[39m\"\u001b[39m\u001b[39mCeyda\u001b[39m\u001b[39m\"\u001b[39m, (\u001b[39m\"\u001b[39m\u001b[39mİdil\u001b[39m\u001b[39m\"\u001b[39m, \u001b[39m\"\u001b[39m\u001b[39mNurefşan\u001b[39m\u001b[39m\"\u001b[39m, [\u001b[39m\"\u001b[39m\u001b[39mAysel\u001b[39m\u001b[39m\"\u001b[39m, \u001b[39m\"\u001b[39m\u001b[39mMerve\u001b[39m\u001b[39m\"\u001b[39m])}\n\u001b[0;32m      <a href='vscode-notebook-cell:/d%3A/SistersLab/python-projects/5.Hafta.ipynb#ch0000010?line=3'>4</a>\u001b[0m \u001b[39mprint\u001b[39m(my_set)\n",
      "\u001b[1;31mTypeError\u001b[0m: unhashable type: 'list'"
     ]
    }
   ],
   "source": [
    "#set içerisinde tuple, tuple içerisinde list\n",
    "my_set = {\"Nurcan\", \"Nurdan\", \"Ceyda\", (\"İdil\", \"Nurefşan\", [\"Aysel\", \"Merve\"])}\n",
    "\n",
    "print(my_set)"
   ]
  },
  {
   "cell_type": "markdown",
   "metadata": {},
   "source": [
    "Boş bir set oluşturma\n",
    "\n",
    "* my_list -> []\n",
    "* my_tuple-> ()"
   ]
  },
  {
   "cell_type": "code",
   "execution_count": 10,
   "metadata": {},
   "outputs": [
    {
     "name": "stdout",
     "output_type": "stream",
     "text": [
      "<class 'dict'>\n"
     ]
    }
   ],
   "source": [
    "my_set = {} #boş dictionary oluşturur\n",
    "print(type(my_set))"
   ]
  },
  {
   "cell_type": "code",
   "execution_count": 11,
   "metadata": {},
   "outputs": [
    {
     "name": "stdout",
     "output_type": "stream",
     "text": [
      "<class 'set'>\n"
     ]
    }
   ],
   "source": [
    "empty_set = set() #boş bir set oluşturur\n",
    "print(type(empty_set))"
   ]
  },
  {
   "cell_type": "code",
   "execution_count": 12,
   "metadata": {},
   "outputs": [
    {
     "name": "stdout",
     "output_type": "stream",
     "text": [
      "Person of Interest\n",
      "The Bing Bang Theory\n",
      "The Office\n"
     ]
    }
   ],
   "source": [
    "movies = {\"The Office\", \"The Bing Bang Theory\", \"Person of Interest\"}\n",
    "\n",
    "for item in movies:\n",
    "    print(item)"
   ]
  },
  {
   "cell_type": "markdown",
   "metadata": {},
   "source": [
    "Set içerisinde eleman kontrolü"
   ]
  },
  {
   "cell_type": "code",
   "execution_count": 13,
   "metadata": {},
   "outputs": [
    {
     "name": "stdout",
     "output_type": "stream",
     "text": [
      "Diziler içerisinde mevcut değildir\n"
     ]
    }
   ],
   "source": [
    "movies = {\"The Office\", \"The Bing Bang Theory\", \"Person of Interest\"}\n",
    "\n",
    "if \"Harry Potter\" in movies:\n",
    "    print(\"Diziler içinde mevcut\")\n",
    "else:\n",
    "    print(\"Diziler içerisinde mevcut değildir\")"
   ]
  },
  {
   "cell_type": "markdown",
   "metadata": {},
   "source": [
    "Bir setin uzunluğu"
   ]
  },
  {
   "cell_type": "code",
   "execution_count": 14,
   "metadata": {},
   "outputs": [
    {
     "name": "stdout",
     "output_type": "stream",
     "text": [
      "3\n"
     ]
    }
   ],
   "source": [
    "\n",
    "print(len(movies))"
   ]
  },
  {
   "cell_type": "markdown",
   "metadata": {},
   "source": [
    "Bir Set'e eleman ekleme\n",
    "\n",
    "* add() sete yeni bir eleman eklenir\n",
    "* update() metodu ile de birden fazla ekleme işlemi yapılır"
   ]
  },
  {
   "cell_type": "code",
   "execution_count": 15,
   "metadata": {},
   "outputs": [
    {
     "name": "stdout",
     "output_type": "stream",
     "text": [
      "{'Serenad', 'İnce Memed', 'Şeker Portakalı', 'Harry Potter', 'Küçük Prens'}\n"
     ]
    }
   ],
   "source": [
    "books = {\"Serenad\", \"Küçük Prens\", \"Şeker Portakalı\", \"Harry Potter\"}\n",
    "\n",
    "books.add(\"İnce Memed\")\n",
    "print(books)"
   ]
  },
  {
   "cell_type": "code",
   "execution_count": 16,
   "metadata": {},
   "outputs": [
    {
     "name": "stdout",
     "output_type": "stream",
     "text": [
      "{'Serenad', 'Demir Ökçe', 'İnce Memed', '1984', 'Şeker Portakalı', 'Harry Potter', 'Küçük Prens'}\n"
     ]
    }
   ],
   "source": [
    "books.update([\"Demir Ökçe\", \"1984\"])\n",
    "print(books)"
   ]
  },
  {
   "cell_type": "markdown",
   "metadata": {},
   "source": [
    "Bir set içerisinden eleman silme\n",
    "\n",
    "* remove()\n",
    "* discard()\n",
    "* pop()\n",
    "* clear()\n",
    "* del set"
   ]
  },
  {
   "cell_type": "code",
   "execution_count": 17,
   "metadata": {},
   "outputs": [
    {
     "name": "stdout",
     "output_type": "stream",
     "text": [
      "{0, 1, 3, 4, 5, 6, 7, 8, 9, 10}\n"
     ]
    }
   ],
   "source": [
    "#remove()\n",
    "my_set = {1, 2, 3, 4, 5, 6, 7, 8, 9, 0, 10}\n",
    "my_set.remove(2)\n",
    "\n",
    "print(my_set)"
   ]
  },
  {
   "cell_type": "code",
   "execution_count": 18,
   "metadata": {},
   "outputs": [
    {
     "ename": "KeyError",
     "evalue": "11",
     "output_type": "error",
     "traceback": [
      "\u001b[1;31m---------------------------------------------------------------------------\u001b[0m",
      "\u001b[1;31mKeyError\u001b[0m                                  Traceback (most recent call last)",
      "\u001b[1;32md:\\SistersLab\\python-projects\\5.Hafta.ipynb Cell 24'\u001b[0m in \u001b[0;36m<cell line: 1>\u001b[1;34m()\u001b[0m\n\u001b[1;32m----> <a href='vscode-notebook-cell:/d%3A/SistersLab/python-projects/5.Hafta.ipynb#ch0000024?line=0'>1</a>\u001b[0m my_set\u001b[39m.\u001b[39;49mremove(\u001b[39m11\u001b[39;49m)\n",
      "\u001b[1;31mKeyError\u001b[0m: 11"
     ]
    }
   ],
   "source": [
    "my_set.remove(11)"
   ]
  },
  {
   "cell_type": "code",
   "execution_count": 19,
   "metadata": {},
   "outputs": [
    {
     "name": "stdout",
     "output_type": "stream",
     "text": [
      "{0, 1, 4, 5, 6, 7, 8, 9, 10}\n"
     ]
    }
   ],
   "source": [
    "#Discard()\n",
    "my_set.discard(3)\n",
    "print(my_set)"
   ]
  },
  {
   "cell_type": "code",
   "execution_count": 20,
   "metadata": {},
   "outputs": [
    {
     "name": "stdout",
     "output_type": "stream",
     "text": [
      "{0, 1, 4, 5, 6, 7, 8, 9, 10}\n"
     ]
    }
   ],
   "source": [
    "my_set.discard(11) #removedan farkı olmayan elemanı silmeye çalıştığımız hata vermez\n",
    "\n",
    "print(my_set)"
   ]
  },
  {
   "cell_type": "code",
   "execution_count": 21,
   "metadata": {},
   "outputs": [
    {
     "name": "stdout",
     "output_type": "stream",
     "text": [
      "{1, 2, 3, 4, 5, 6, 7, 8, 9, 10}\n"
     ]
    }
   ],
   "source": [
    "# pop()\n",
    "my_set = {1, 2, 3, 4, 5, 6, 7, 8, 9, 0, 10}\n",
    "\n",
    "my_set.pop() #rastgele bir elemanı siler\n",
    "print(my_set)"
   ]
  },
  {
   "cell_type": "code",
   "execution_count": 22,
   "metadata": {},
   "outputs": [
    {
     "name": "stdout",
     "output_type": "stream",
     "text": [
      "set()\n"
     ]
    }
   ],
   "source": [
    "#clear() -> Set içerisindeki tüm elemanları silip boş bir çıktı vermek için kullanılır\n",
    "\n",
    "my_set.clear()\n",
    "print(my_set)"
   ]
  },
  {
   "cell_type": "code",
   "execution_count": 23,
   "metadata": {},
   "outputs": [
    {
     "ename": "NameError",
     "evalue": "name 'my_set' is not defined",
     "output_type": "error",
     "traceback": [
      "\u001b[1;31m---------------------------------------------------------------------------\u001b[0m",
      "\u001b[1;31mNameError\u001b[0m                                 Traceback (most recent call last)",
      "\u001b[1;32md:\\SistersLab\\python-projects\\5.Hafta.ipynb Cell 29'\u001b[0m in \u001b[0;36m<cell line: 3>\u001b[1;34m()\u001b[0m\n\u001b[0;32m      <a href='vscode-notebook-cell:/d%3A/SistersLab/python-projects/5.Hafta.ipynb#ch0000030?line=0'>1</a>\u001b[0m \u001b[39m#del \u001b[39;00m\n\u001b[0;32m      <a href='vscode-notebook-cell:/d%3A/SistersLab/python-projects/5.Hafta.ipynb#ch0000030?line=1'>2</a>\u001b[0m \u001b[39mdel\u001b[39;00m my_set\n\u001b[1;32m----> <a href='vscode-notebook-cell:/d%3A/SistersLab/python-projects/5.Hafta.ipynb#ch0000030?line=2'>3</a>\u001b[0m \u001b[39mprint\u001b[39m(my_set)\n",
      "\u001b[1;31mNameError\u001b[0m: name 'my_set' is not defined"
     ]
    }
   ],
   "source": [
    "#del \n",
    "del my_set\n",
    "print(my_set)"
   ]
  },
  {
   "cell_type": "markdown",
   "metadata": {},
   "source": [
    "Set üzerinde kullanabileceğimiz operatörler\n",
    "\n",
    "* union() -> |\n",
    "* intersection() -> &\n",
    "* difference() -> -\n",
    "* symmetric_difference() -> ^\n",
    "\n",
    "\n",
    "Union() iki setin birleştirilme işlemi için kullanılır. Her iki sette yer alan elamanı tek olacak şekilde ekler"
   ]
  },
  {
   "cell_type": "code",
   "execution_count": 24,
   "metadata": {},
   "outputs": [
    {
     "name": "stdout",
     "output_type": "stream",
     "text": [
      "{'Bircan', 'Emre', 'Asena', 'Bilal', 'Burak', 'Başak'}\n"
     ]
    }
   ],
   "source": [
    "my_set1 = {\"Asena\", \"Başak\", \"Bircan\", \"Emre\"}\n",
    "my_set2 = {\"Emre\", \"Burak\", \"Bilal\"}\n",
    "\n",
    "my_set3 = my_set1 | my_set2\n",
    "print(my_set3)"
   ]
  },
  {
   "cell_type": "code",
   "execution_count": 25,
   "metadata": {},
   "outputs": [
    {
     "name": "stdout",
     "output_type": "stream",
     "text": [
      "{'Bircan', 'Emre', 'Asena', 'Bilal', 'Burak', 'Başak'}\n"
     ]
    }
   ],
   "source": [
    "my_set4 = my_set1.union(my_set2)\n",
    "print(my_set4)"
   ]
  },
  {
   "cell_type": "markdown",
   "metadata": {},
   "source": [
    "intersection (Kesişim) Her iki sette yer alan ortak elemanları gösterir"
   ]
  },
  {
   "cell_type": "code",
   "execution_count": 26,
   "metadata": {},
   "outputs": [
    {
     "name": "stdout",
     "output_type": "stream",
     "text": [
      "{4, 5}\n"
     ]
    }
   ],
   "source": [
    "my_set1 = {1,2,3,4,5}\n",
    "my_set2 = {4,5,6,7,8}\n",
    "\n",
    "new_set = my_set1 & my_set2\n",
    "print(new_set)"
   ]
  },
  {
   "cell_type": "code",
   "execution_count": 27,
   "metadata": {},
   "outputs": [
    {
     "name": "stdout",
     "output_type": "stream",
     "text": [
      "{4, 5}\n"
     ]
    }
   ],
   "source": [
    "new_set = my_set1.intersection(my_set2)\n",
    "print(new_set)"
   ]
  },
  {
   "cell_type": "code",
   "execution_count": 28,
   "metadata": {},
   "outputs": [
    {
     "name": "stdout",
     "output_type": "stream",
     "text": [
      "{1, 2, 3, 4, 5}\n",
      "{4, 5}\n"
     ]
    }
   ],
   "source": [
    "print(my_set1)\n",
    "my_set1.intersection_update(my_set2)\n",
    "print(my_set1)"
   ]
  },
  {
   "cell_type": "code",
   "execution_count": 29,
   "metadata": {},
   "outputs": [
    {
     "name": "stdout",
     "output_type": "stream",
     "text": [
      "{1, 2, 3}\n",
      "{1, 2, 3}\n"
     ]
    }
   ],
   "source": [
    "my_set1 = {1,2,3,4,5}\n",
    "my_set2 = {4,5,6,7,8}\n",
    "\n",
    "new_set = my_set1 - my_set2\n",
    "print(new_set)\n",
    "\n",
    "print(my_set1.difference(my_set2))"
   ]
  },
  {
   "cell_type": "code",
   "execution_count": 30,
   "metadata": {},
   "outputs": [
    {
     "name": "stdout",
     "output_type": "stream",
     "text": [
      "{4, 5, 6, 7, 8}\n",
      "{6, 7, 8}\n"
     ]
    }
   ],
   "source": [
    "my_set1 = {1,2,3,4,5}\n",
    "my_set2 = {4,5,6,7,8}\n",
    "\n",
    "print(my_set2)\n",
    "my_set2.difference_update(my_set1)\n",
    "print(my_set2)"
   ]
  },
  {
   "cell_type": "markdown",
   "metadata": {},
   "source": [
    "symmetric_difference -> Ortak eleman dışındaki elemanları alır"
   ]
  },
  {
   "cell_type": "code",
   "execution_count": 31,
   "metadata": {},
   "outputs": [
    {
     "name": "stdout",
     "output_type": "stream",
     "text": [
      "{1, 2, 3, 6, 7, 8}\n",
      "{1, 2, 3, 6, 7, 8}\n"
     ]
    }
   ],
   "source": [
    "my_set1 = {1,2,3,4,5}\n",
    "my_set2 = {4,5,6,7,8}\n",
    "\n",
    "unique_set = my_set1 ^ my_set2\n",
    "print(unique_set)\n",
    "\n",
    "unique_set2 = my_set1.symmetric_difference(my_set2)\n",
    "print(unique_set2)"
   ]
  },
  {
   "cell_type": "markdown",
   "metadata": {},
   "source": [
    "symmetric_difference_update()"
   ]
  },
  {
   "cell_type": "code",
   "execution_count": 32,
   "metadata": {},
   "outputs": [
    {
     "name": "stdout",
     "output_type": "stream",
     "text": [
      "{4, 5, 6, 7, 8}\n",
      "{1, 2, 3, 6, 7, 8}\n"
     ]
    }
   ],
   "source": [
    "print(my_set2)\n",
    "my_set2.symmetric_difference_update(my_set1)\n",
    "print(my_set2)"
   ]
  },
  {
   "cell_type": "markdown",
   "metadata": {},
   "source": [
    "Kopyalama İşlemleri\n",
    "\n",
    "* copy()\n",
    "* set()\n",
    "* = operatörü"
   ]
  },
  {
   "cell_type": "code",
   "execution_count": 33,
   "metadata": {},
   "outputs": [
    {
     "name": "stdout",
     "output_type": "stream",
     "text": [
      "{True, 2022, 'Macbook', 'Iphone', 19}\n",
      "{True, 2022, 'Macbook', 'Iphone', 19}\n"
     ]
    }
   ],
   "source": [
    "my_set = {2022, True, \"Iphone\", \"Macbook\"}\n",
    "\n",
    "my_set2 = my_set\n",
    "my_set.add(19)\n",
    "\n",
    "print(my_set)\n",
    "print(my_set2)"
   ]
  },
  {
   "cell_type": "code",
   "execution_count": 34,
   "metadata": {},
   "outputs": [
    {
     "name": "stdout",
     "output_type": "stream",
     "text": [
      "{True, 2022, 'Macbook', 'Iphone', 19}\n",
      "{True, 'Macbook', 2022, 'Iphone'}\n"
     ]
    }
   ],
   "source": [
    "my_set = {2022, True, \"Iphone\", \"Macbook\"}\n",
    "\n",
    "my_set2 = my_set.copy()\n",
    "my_set.add(19)\n",
    "\n",
    "print(my_set)\n",
    "print(my_set2)"
   ]
  },
  {
   "cell_type": "code",
   "execution_count": 35,
   "metadata": {},
   "outputs": [
    {
     "name": "stdout",
     "output_type": "stream",
     "text": [
      "{True, 2022, 'Macbook', 'Iphone', 19}\n",
      "{True, 'Macbook', 2022, 'Iphone'}\n"
     ]
    }
   ],
   "source": [
    "my_set = {2022, True, \"Iphone\", \"Macbook\"}\n",
    "\n",
    "my_set2 = set(my_set)\n",
    "my_set.add(19)\n",
    "\n",
    "print(my_set)\n",
    "print(my_set2)"
   ]
  },
  {
   "cell_type": "markdown",
   "metadata": {},
   "source": [
    "* issubset() -> alt küme kontrolü\n",
    "* issuperset() -> üst kümse kontrolü"
   ]
  },
  {
   "cell_type": "code",
   "execution_count": 36,
   "metadata": {},
   "outputs": [
    {
     "name": "stdout",
     "output_type": "stream",
     "text": [
      "True\n",
      "True\n",
      "False\n",
      "False\n"
     ]
    }
   ],
   "source": [
    "my_set = {3, \"Python\", 4, 7, True}\n",
    "sub_set = {\"Python\"}\n",
    "\n",
    "print(sub_set.issubset(my_set)) #sub_set my_set'in alt kümesi mi\n",
    "print(my_set.issuperset(sub_set))\n",
    "\n",
    "print(sub_set.issuperset(my_set))\n",
    "print(my_set.issubset(sub_set))"
   ]
  },
  {
   "cell_type": "markdown",
   "metadata": {},
   "source": [
    "Frozenset -> Değişmez bir set oluşturmak için kullanılır"
   ]
  },
  {
   "cell_type": "code",
   "execution_count": 37,
   "metadata": {},
   "outputs": [
    {
     "ename": "AttributeError",
     "evalue": "'frozenset' object has no attribute 'add'",
     "output_type": "error",
     "traceback": [
      "\u001b[1;31m---------------------------------------------------------------------------\u001b[0m",
      "\u001b[1;31mAttributeError\u001b[0m                            Traceback (most recent call last)",
      "\u001b[1;32md:\\SistersLab\\python-projects\\5.Hafta.ipynb Cell 50'\u001b[0m in \u001b[0;36m<cell line: 4>\u001b[1;34m()\u001b[0m\n\u001b[0;32m      <a href='vscode-notebook-cell:/d%3A/SistersLab/python-projects/5.Hafta.ipynb#ch0000051?line=0'>1</a>\u001b[0m name_set \u001b[39m=\u001b[39m {\u001b[39m\"\u001b[39m\u001b[39mMerve\u001b[39m\u001b[39m\"\u001b[39m, \u001b[39m\"\u001b[39m\u001b[39mHilal\u001b[39m\u001b[39m\"\u001b[39m, \u001b[39m\"\u001b[39m\u001b[39mNihal\u001b[39m\u001b[39m\"\u001b[39m}\n\u001b[0;32m      <a href='vscode-notebook-cell:/d%3A/SistersLab/python-projects/5.Hafta.ipynb#ch0000051?line=1'>2</a>\u001b[0m frozen_set \u001b[39m=\u001b[39m \u001b[39mfrozenset\u001b[39m(name_set)\n\u001b[1;32m----> <a href='vscode-notebook-cell:/d%3A/SistersLab/python-projects/5.Hafta.ipynb#ch0000051?line=3'>4</a>\u001b[0m frozen_set\u001b[39m.\u001b[39;49madd(\u001b[39m\"\u001b[39m\u001b[39mAysel\u001b[39m\u001b[39m\"\u001b[39m)\n",
      "\u001b[1;31mAttributeError\u001b[0m: 'frozenset' object has no attribute 'add'"
     ]
    }
   ],
   "source": [
    "name_set = {\"Merve\", \"Hilal\", \"Nihal\"}\n",
    "frozen_set = frozenset(name_set)\n",
    "\n",
    "frozen_set.add(\"Aysel\")"
   ]
  },
  {
   "cell_type": "code",
   "execution_count": 38,
   "metadata": {},
   "outputs": [
    {
     "ename": "AttributeError",
     "evalue": "'frozenset' object has no attribute 'remove'",
     "output_type": "error",
     "traceback": [
      "\u001b[1;31m---------------------------------------------------------------------------\u001b[0m",
      "\u001b[1;31mAttributeError\u001b[0m                            Traceback (most recent call last)",
      "\u001b[1;32md:\\SistersLab\\python-projects\\5.Hafta.ipynb Cell 51'\u001b[0m in \u001b[0;36m<cell line: 1>\u001b[1;34m()\u001b[0m\n\u001b[1;32m----> <a href='vscode-notebook-cell:/d%3A/SistersLab/python-projects/5.Hafta.ipynb#ch0000052?line=0'>1</a>\u001b[0m frozen_set\u001b[39m.\u001b[39;49mremove(\u001b[39m\"\u001b[39m\u001b[39mHilal\u001b[39m\u001b[39m\"\u001b[39m)\n",
      "\u001b[1;31mAttributeError\u001b[0m: 'frozenset' object has no attribute 'remove'"
     ]
    }
   ],
   "source": [
    "frozen_set.remove(\"Hilal\")"
   ]
  },
  {
   "cell_type": "markdown",
   "metadata": {},
   "source": [
    "new_set = {expression(i) for i in my_set if i in condition}"
   ]
  },
  {
   "cell_type": "code",
   "execution_count": 39,
   "metadata": {},
   "outputs": [
    {
     "name": "stdout",
     "output_type": "stream",
     "text": [
      "{2, 4, 6, 8, 10, 12, 14, 16, 18}\n"
     ]
    }
   ],
   "source": [
    "#1 den 10 kadar olan sayıların iki katını ekrana bas\n",
    "new_set = {i*2 for i in range(1, 10)}\n",
    "\n",
    "print(new_set)"
   ]
  },
  {
   "cell_type": "code",
   "execution_count": 40,
   "metadata": {},
   "outputs": [
    {
     "name": "stdout",
     "output_type": "stream",
     "text": [
      "{8, 16, 4, 12}\n"
     ]
    }
   ],
   "source": [
    "\n",
    "#1den 10 a kadar sadece çift sayıların iki katını alıp ekrana bas\n",
    "\n",
    "new_set = {i*2 for i in range(1, 10) if i % 2 == 0}\n",
    "print(new_set)"
   ]
  },
  {
   "cell_type": "code",
   "execution_count": 41,
   "metadata": {},
   "outputs": [
    {
     "name": "stdout",
     "output_type": "stream",
     "text": [
      "{1, 2, 3, 4, 5, 6, 7}\n"
     ]
    }
   ],
   "source": [
    "#bir listenin tüm elemanlarını bir sete ekleme işlemi yapalım\n",
    "\n",
    "my_set = {1,2,3,4,5}\n",
    "my_list = [4,5,6,7]\n",
    "\n",
    "my_set.update(my_list)\n",
    "print(my_set)"
   ]
  },
  {
   "cell_type": "code",
   "execution_count": 42,
   "metadata": {},
   "outputs": [
    {
     "name": "stdout",
     "output_type": "stream",
     "text": [
      "{1, 2, 3, 6, 7, 8}\n"
     ]
    }
   ],
   "source": [
    "#iki sette yer alan benzersiz elemanlardan bir set oluşturalım\n",
    "\n",
    "my_set = {1,2,3,4,5}\n",
    "my_set2 = {4,5,6,7,8}\n",
    "\n",
    "print(my_set.symmetric_difference(my_set2))"
   ]
  }
 ],
 "metadata": {
  "interpreter": {
   "hash": "ad2bdc8ecc057115af97d19610ffacc2b4e99fae6737bb82f5d7fb13d2f2c186"
  },
  "kernelspec": {
   "display_name": "Python 3.9.12 ('base')",
   "language": "python",
   "name": "python3"
  },
  "language_info": {
   "codemirror_mode": {
    "name": "ipython",
    "version": 3
   },
   "file_extension": ".py",
   "mimetype": "text/x-python",
   "name": "python",
   "nbconvert_exporter": "python",
   "pygments_lexer": "ipython3",
   "version": "3.9.12"
  },
  "orig_nbformat": 4
 },
 "nbformat": 4,
 "nbformat_minor": 2
}
